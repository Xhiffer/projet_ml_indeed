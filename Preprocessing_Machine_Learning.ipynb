{
 "cells": [
  {
   "cell_type": "markdown",
   "metadata": {},
   "source": [
    "# Projet INDEED\n",
    "\n",
    "3 grandes parties :\n",
    "- Scrapping et réalistion de base de données\n",
    "- Preprocessing / NLP\n",
    "- Machine learning pour prédire les salaires\n",
    "\n",
    "\n",
    "# Le Scrapping\n",
    "\n",
    "Réaliser un programme qui permet de récupérer le maximum d'annonces concernant les métiers suivants :  \n",
    "- développeur\n",
    "- business intelligence\n",
    "- data scientist\n",
    "- data science\n",
    "- data analyst\n",
    "- data engineer\n",
    "- data architect\n",
    "- data protection\n",
    "- data manager\n",
    "- data concepteur\n",
    "- big data\n",
    "- devops\n",
    "- web developer\n",
    "- full stack developer\n",
    "- web architect\n",
    "- front end developer\n",
    "- back end developer\n",
    "\n",
    "dans ces 5 parties de France :\n",
    "- Île de France\n",
    "- Lyon\n",
    "- Bordeaux\n",
    "- Nantes\n",
    "- Toulouse\n",
    "\n",
    "et de les stocker dans une base de données de type MongoDB\n",
    "\n",
    "# Partie 1 - Préprocessing des données\n",
    "\n",
    "Extraire des variables explicatives, afin de prédire les salaires manquants dans les données scrappées\n",
    "\n",
    "Type de variables explicatives choisies :\n",
    "\n",
    "- en lien avec le titre du métier (séparation des métiers en 2 poles : \"dev\" et \"data\")\n",
    "   \n",
    "- en lien avec le niveau d'étude (Bac+3 / Bac+5 et Bac +5)\n",
    "\n",
    "/!\\ Bac +3 englobe : BTS/IUT/Licence/BSc\n",
    "/!\\ Bac +5 englobe : Master/ingenieur/MSc/grandes écoles\n",
    "/!\\ Bac +8 englobe : PhD/doctorat/docteur\n",
    "    \n",
    "- en lien avec les années d'expérience demandées\n",
    "\n",
    "/!\\ lorsque qu'un intervalle d'années d'expérience est demandé, nous avons gardé la moyenne\n",
    "/!\\ lorsque les années d'expérence sont supérieures à 13, nous n'avons pas gardé la valeus \n",
    "Pourquoi ? il s'agit la plupart du temps d'une desciprtion de la société.\n",
    "\n",
    "- en lien avec l'expérience\n",
    "la présence du mot junior (et ses dérivés : jeune diplomé/novice) et celle de senior (et ses dérivés: expérimenté/confirmé)\n",
    "\n",
    "- en lien avec la géographie \n",
    "\n",
    "- en lien avec le type de contrat\n",
    "\n",
    "Finalement, après plusieurs test, nous avons décidé de ne plus utilisé la variable explicative concernant les années d'expériences, car nous n'avions pas assez de données.\n",
    "De plus, nous avons préféré séparer les salaires en fonction du lieu plutôt que des poles dev versus data. Les résultats étant meilleurs lors de la séparation selon la géographie (province versus île de France).\n",
    "\n",
    "# Partie 2 - Le machine learning\n",
    "\n",
    "Test et comparaison de plusieurs algorithmes de ML afin de prédire au mieux les salaires manquants\n",
    "\n",
    "Algorithmes testés:\n",
    "\n",
    "- Random Forest\n",
    "- SVM Kernel 'linear' \n",
    "- SVM Kernel 'rbf'\n",
    "- Adaboost\n",
    "- XGBoost\n",
    "\n",
    "Métriques utilisées :\n",
    "- accuracy_train\n",
    "- accuracy_test\n",
    "- recall_train\n",
    "- f1_train\n",
    "- cross_validation\n",
    "\n",
    "Un premier round d'algorithme a été lancée, pour évaluer la pertinence des groupes de salaire réalisés, une fois les groupes pertinents repérés, nous avons utilisés grid search afin d'améliorer les métriques, et nous avons relancés un second round de machine learning."
   ]
  },
  {
   "cell_type": "markdown",
   "metadata": {},
   "source": [
    "## Partie 1 - Le Preprocessing"
   ]
  },
  {
   "cell_type": "code",
   "execution_count": 1,
   "metadata": {},
   "outputs": [],
   "source": [
    "# PACKAGE A IMPORTER\n",
    "\n",
    "import pandas as pd\n",
    "import json\n",
    "import unidecode\n",
    "import re\n",
    "import numpy as np\n",
    "from sklearn import svm\n",
    "import sklearn as sk\n",
    "from sklearn.model_selection import train_test_split\n",
    "from sklearn.metrics import accuracy_score\n",
    "from sklearn.svm import SVC\n",
    "from sklearn.ensemble import RandomForestClassifier\n",
    "from sklearn.datasets import make_classification\n",
    "from sklearn.ensemble import AdaBoostClassifier\n",
    "import xgboost as xgb\n",
    "import matplotlib.pyplot as plt\n",
    "from sklearn.cluster import KMeans\n",
    "import seaborn as sns\n",
    "from scipy.spatial.distance import cdist\n",
    "import xgboost as xgb\n",
    "from sklearn.metrics import recall_score\n",
    "from sklearn.metrics import f1_score\n",
    "from sklearn.model_selection import KFold\n",
    "from xgboost.sklearn import XGBClassifier\n",
    "from sklearn.model_selection import KFold\n",
    "from sklearn.model_selection import cross_val_score\n",
    "from sklearn.metrics import mean_squared_error\n",
    "from sklearn.model_selection import GridSearchCV"
   ]
  },
  {
   "cell_type": "markdown",
   "metadata": {},
   "source": [
    "Lecture de json de la base de données"
   ]
  },
  {
   "cell_type": "code",
   "execution_count": null,
   "metadata": {},
   "outputs": [],
   "source": [
    "data = pd.read_json('indeed6.json', encoding = 'utf-8', lines=True)"
   ]
  },
  {
   "cell_type": "markdown",
   "metadata": {},
   "source": [
    "Retrait des accents et de la ponctuation sur les différentes colonnes à traiter"
   ]
  },
  {
   "cell_type": "code",
   "execution_count": null,
   "metadata": {},
   "outputs": [],
   "source": [
    "def remove_accents(a):\n",
    "    #a = a.replace(\"é\", \"e\")\n",
    "    #a = a.replace(\"à\", \"a\")\n",
    "    return unidecode.unidecode(a)\n",
    "\n",
    "data[\"texte\"] = data.texte.apply(remove_accents)\n",
    "data[\"texte\"] = data.texte.str.lower()\n",
    "data[\"texte\"] = data.texte.astype(str)\n",
    "\n",
    "data[\"query_contrat\"] = data.query_contrat.apply(remove_accents)\n",
    "data[\"query_contrat\"] = data.query_contrat.str.lower()\n",
    "data[\"query_contrat\"] = data.query_contrat.astype(str)\n",
    "\n",
    "data[\"query_ville\"] = data.query_ville.apply(remove_accents)\n",
    "data[\"query_ville\"] = data.query_ville.str.lower()\n",
    "data[\"query_ville\"] = data.query_ville.astype(str)\n",
    "\n",
    "data[\"titre\"] = data.titre.apply(remove_accents)\n",
    "data[\"titre\"] = data.titre.str.lower()\n",
    "data[\"titre\"] = data.titre.astype(str)\n",
    "\n",
    "data[\"query_poste\"] = data.query_poste.apply(remove_accents)\n",
    "data[\"query_poste\"] = data.query_poste.str.lower()\n",
    "data[\"query_poste\"] = data.query_poste.astype(str)"
   ]
  },
  {
   "cell_type": "markdown",
   "metadata": {},
   "source": [
    "# Création des variables explicatives en lien avec la géographie\n",
    "\n",
    "Une annonce (avec une seule ID) pouvant être publiée dans plusieurs villes, nous avons décidé de creer 5 colonnes (pour les 5 villes) et de mettre des 1 dans les colonnes si la ou les villes sont concernées par l'annonce et 0 si non. "
   ]
  },
  {
   "cell_type": "code",
   "execution_count": null,
   "metadata": {},
   "outputs": [],
   "source": [
    "def pole_ville (data):\n",
    "    liste_nantes = [0]*len(data)\n",
    "    liste_bordeaux = [0]*len(data)\n",
    "    liste_idf = [0]*len(data)\n",
    "    liste_lyon = [0]*len(data)\n",
    "    liste_toulouse = [0]*len(data)\n",
    "    \n",
    "    for i in range(len(data.query_ville)):\n",
    "        if re.findall('nantes',data.query_ville[i]):\n",
    "            liste_nantes[i] = 1\n",
    "        elif re.findall('bordeaux',data.query_ville[i]):\n",
    "            liste_bordeaux[i] = 1\n",
    "        elif re.findall('lyon',data.query_ville[i]):\n",
    "            liste_lyon[i] = 1\n",
    "        elif re.findall('toulouse',data.query_ville[i]):\n",
    "            liste_toulouse[i] = 1\n",
    "        elif re.findall('ile-de-france',data.query_ville[i]):\n",
    "            liste_idf[i] = 1\n",
    "        \n",
    "    data['Nantes'] = liste_nantes\n",
    "    data['Bordeaux'] = liste_bordeaux\n",
    "    data['Idf'] = liste_idf\n",
    "    data['Lyon'] = liste_lyon\n",
    "    data['Toulouse'] = liste_toulouse"
   ]
  },
  {
   "cell_type": "markdown",
   "metadata": {},
   "source": [
    "# Création des variables explicatives en lien avec le contract\n",
    "\n",
    "De même que pour les villes, une même annonce peut donner lieu à differents types de contract. Nous avons créer 5 colonnes ( 4 types de contract et une colonne contract inconnu), un 1 est ajouté lorsque le ou les contrats sont mentionnés dans l'annonce, 0 si non (et 1 dans la colonne contrat inconnu)."
   ]
  },
  {
   "cell_type": "code",
   "execution_count": null,
   "metadata": {},
   "outputs": [],
   "source": [
    "def pole_contract (data):\n",
    "    liste_CDI = [0]*len(data)\n",
    "    liste_CDD = [0]*len(data)\n",
    "    liste_freelance_interim = [0]*len(data)\n",
    "    liste_stage_apprentissage = [0]*len(data)\n",
    "    liste_inconnu = [0]*len(data)\n",
    "    \n",
    "    for i in range(len(data.query_contrat)):\n",
    "        if re.findall('(internship|custom_1|apprenticeship)',data.query_contrat[i]):\n",
    "            liste_stage_apprentissage[i] = 1\n",
    "        elif re.findall('(temporary|subcontract)',data.query_contrat[i]):\n",
    "            liste_freelance_interim[i] = 1\n",
    "        elif re.findall('contract',data.query_contrat[i]):\n",
    "            liste_CDD[i] = 1\n",
    "        elif re.findall('permanent',data.query_contrat[i]):\n",
    "            liste_CDI[i] = 1\n",
    "        else :\n",
    "            liste_inconnu[i] = 1\n",
    "        \n",
    "    data['CDI'] = liste_CDI\n",
    "    data['CDD'] = liste_CDD\n",
    "    data['freelance_interim'] = liste_freelance_interim\n",
    "    data['stage_apprentissage'] = liste_stage_apprentissage\n",
    "    data['inconnu'] = liste_inconnu"
   ]
  },
  {
   "cell_type": "markdown",
   "metadata": {},
   "source": [
    "# Création des variables explicatives en lien avec le pole d'activité (Dev et Data)\n",
    "\n",
    "Nous avions décidé de séparer les emplois en 2 pôles : le pôle data et le pôle dev.\n",
    "Cependant, lors de machine learning, nous avons arrêter d'utiliser cette variable explicative."
   ]
  },
  {
   "cell_type": "code",
   "execution_count": null,
   "metadata": {},
   "outputs": [],
   "source": [
    "def pole_travail (data):\n",
    "    liste_pole_dev = [0]*len(data)\n",
    "    liste_pole_data = [0]*len(data)\n",
    "    \n",
    "    for i in range(len(data.query_poste)):\n",
    "        if re.findall('(dev|web)',data.query_poste[i]):\n",
    "            liste_pole_dev[i] = 1\n",
    "        if re.findall('(data|intelligence)',data.query_poste[i]):\n",
    "            liste_pole_data[i] = 1\n",
    "            \n",
    "    data['dev'] = liste_pole_dev\n",
    "    data['data'] = liste_pole_data"
   ]
  },
  {
   "cell_type": "markdown",
   "metadata": {},
   "source": [
    "# Recherche des termes dans la description des annonces avec les RegEx (junior/senior, niveau d'étude, années d'expérience et salaires)\n",
    "\n",
    "Nous avons souhaité creer des variables explicatives en lien le niveau d'étude, les année d'expériences demandées, l'expérience demandées (junior vs senior) et retrouver des salaires dans la description qui ne seraient pas forcément mentionnés dans le reste de l'annonce.\n",
    "\n",
    "Nous avons lors du machine learning, retiré la variable liée aux années d'expérience demandées, n'ayant pas assez de données à ce sujet là."
   ]
  },
  {
   "cell_type": "code",
   "execution_count": null,
   "metadata": {},
   "outputs": [],
   "source": [
    "def terme_a_trouver (data):\n",
    "    liste_junior = []\n",
    "    liste_senior = []\n",
    "    liste_bac_3 = []\n",
    "    liste_bac_5 = []\n",
    "    liste_bac_8 = []\n",
    "    liste_exp = []\n",
    "    liste_salaire = []\n",
    "    \n",
    "    for i in range(len(data.texte)):\n",
    "        if re.findall('(jeune[es().]* diplome[es().]*|junior[s]*|novice[s]* | debutant[es().])', data.texte[i]):\n",
    "            junior_i = re.findall('(jeune[es().]* diplome[es().]*|junior[s]*|novice[s]*)', data.texte[i])\n",
    "            liste_junior.append(junior_i)\n",
    "        else :\n",
    "            liste_junior.append(np.nan)\n",
    "    \n",
    "    for i in range(len(data.texte)):\n",
    "        if re.findall('(experimente[es().]*|senior[s]*|confirme[es().]*)', data.texte[i]):\n",
    "            senior_i = re.findall('(experimente[es().]*|senior[s]*|confirme[es().]*)', data.texte[i])\n",
    "            liste_senior.append(senior_i)\n",
    "        else :\n",
    "            liste_senior.append(np.nan)\n",
    "            \n",
    "    for i in range(len(data.texte)):\n",
    "        if re.findall('(licence|bac[ +]*[23/]+| iut | dut | bts | bsc)', data.texte[i]):\n",
    "            bac_3_i = re.findall('(licence|bac[ +]*[23/]+| iut | dut | bts | bsc)', data.texte[i])\n",
    "            liste_bac_3.append(bac_3_i)\n",
    "        else :\n",
    "            liste_bac_3.append(np.nan)\n",
    "            \n",
    "    for i in range(len(data.texte)):\n",
    "        if re.findall('(master|bac[ +]*5|ingenieur[.()es]*|grande[s]* ecole[s]*| msc)',data.texte[i]):\n",
    "            bac_5_i = re.findall('(master|bac[ +]*5|ingenieur[.()es]*|grande[s]* ecole[s]*| msc)',data.texte[i])\n",
    "            liste_bac_5.append(bac_5_i)\n",
    "        else :\n",
    "            liste_bac_5.append(np.nan)\n",
    "    \n",
    "    for i in range(len(data.texte)):\n",
    "        if re.findall('(doctorat[s]*|docteur[.()es]*|ph[.]*d|these[s]*)',data.texte[i]):\n",
    "            bac_8_i = re.findall('(doctorat[s]*|docteur[.()es]*|ph[.]*d|these[s]*)',data.texte[i])\n",
    "            liste_bac_8.append(bac_8_i)\n",
    "        else :\n",
    "            liste_bac_8.append(np.nan)\n",
    "    \n",
    "    for i in range(len(data.texte)):\n",
    "        if re.findall('(minimum [1-9]*[ /aou-]*\\d+ an[nees]* d\\'experience|[1-9]*[ /aou-]*\\d+ an[nees]* d\\'experience|[1-9]*[ /aou-]*\\d+ an[nees]* minimum d\\'experience)',data.texte[i]):\n",
    "            exp_i = re.findall('(minimum [1-9]*[ /aou-]*\\d+ an[nees]* d\\'experience|[1-9]*[ /aou-]*\\d+ an[nees]* d\\'experience|[1-9]*[ /aou-]*\\d+ an[nees]* minimum d\\'experience)', data.texte[i])\n",
    "            exp_i = ''.join(exp_i)\n",
    "            exp_i = exp_i.replace(\"'\", \"\")\n",
    "            exp_i = exp_i.replace(\"-\", \"\")\n",
    "            exp_i = exp_i.replace(\" \", \"\")\n",
    "            #exp_ii = re.sub(\"[A-Za-z]\", \"\", exp_i)\n",
    "            liste_exp.append(exp_i)\n",
    "        else :\n",
    "            liste_exp.append(np.nan)\n",
    "            \n",
    "    for i in range(len(data.texte)):\n",
    "        if re.findall('[\\d+ ]*[ \\-k€]*[\\d+ ]*\\d+,?\\d+[ ]*[k€$]+',data.texte[i]):\n",
    "            salaire_i = re.findall('[\\d+ ]*[ \\-k€]*[\\d+ ]*\\d+,?\\d+[ ]*[kK€$]+',data.texte[i])\n",
    "            salaire_i = ''.join(salaire_i)\n",
    "            salaire_i = salaire_i.replace(\"k\", \"000\")\n",
    "            salaire_i = salaire_i.replace(\"K\", \"000\")\n",
    "            salaire_i = salaire_i.replace(\" \", \"\")\n",
    "            salaire_ii = re.sub(\"[A-Za-z]\", \"\", salaire_i)\n",
    "            liste_salaire.append(salaire_ii)\n",
    "        else :\n",
    "            liste_salaire.append(np.nan)\n",
    "            \n",
    "    data['junior'] = liste_junior\n",
    "    data['senior'] = liste_senior\n",
    "    data['bac_3'] = liste_bac_3\n",
    "    data['bac_5'] = liste_bac_5\n",
    "    data['bac_8'] = liste_bac_8\n",
    "    data['experience'] = liste_exp\n",
    "    data['salaire_texte'] = liste_salaire"
   ]
  },
  {
   "cell_type": "code",
   "execution_count": null,
   "metadata": {},
   "outputs": [],
   "source": [
    "# LANCER LES DIFFERENTES FONCTIONS:\n",
    "pole_ville(data)\n",
    "pole_contract(data)\n",
    "pole_travail(data)\n",
    "terme_a_trouver(data)"
   ]
  },
  {
   "cell_type": "markdown",
   "metadata": {},
   "source": [
    "# Transformation des données récupérées avec les RegEx \n",
    "\n",
    "Les termes trouvés via la recherche RegEx pour le niveau d'étude et les termes junior/senior sont remplacés par des 0 et 1 afin de pouvoir les utiliser lors du machine learning"
   ]
  },
  {
   "cell_type": "code",
   "execution_count": null,
   "metadata": {},
   "outputs": [],
   "source": [
    "liste_zero_un = [\"junior\", \"senior\", \"bac_3\", \"bac_5\", \"bac_8\"]\n",
    "for x in liste_zero_un:\n",
    "    data[x] = data[x].replace(np.nan, 0)\n",
    "    data[x] = np.where(data[x] !=0, 1, data[x])"
   ]
  },
  {
   "cell_type": "markdown",
   "metadata": {},
   "source": [
    "# Transformation des données récupérées avec les RegEx 2\n",
    "\n",
    "Les termes trouvés via les RegEx pour les années d'expériences sont transformés en float afin de pouvoir les utiliser lors du machine learning. "
   ]
  },
  {
   "cell_type": "code",
   "execution_count": null,
   "metadata": {},
   "outputs": [],
   "source": [
    "# TRANSFORMATION DES ANNEES D'EXPERIENCE EN FLOAT ET MODIFICATION DES VALEURS\n",
    "\n",
    "def annee_exp (data):\n",
    "    data.experience = data.experience.astype(str)\n",
    "    liste_exp_demandee = []\n",
    "\n",
    "    for i in range(len(data.experience)):\n",
    "        #annee_exp commence par \"^[1-9]{1,2}an\" cad 1an ou 2annees\n",
    "        if re.findall('^[0-9]{1,2}an',data.experience[i]):\n",
    "            annee_exp = re.findall('^[0-9]{1,2}',data.experience[i])\n",
    "            annee_exp = ''.join(annee_exp)\n",
    "            annee_exp = float(annee_exp)\n",
    "            if annee_exp < 12:\n",
    "                liste_exp_demandee.append(annee_exp)\n",
    "            else : \n",
    "                liste_exp_demandee.append(float(0))\n",
    "                \n",
    "        #annee_exp commence par \"^[\\/aou-]+[1-9]{1,2}\" ou3\n",
    "        elif re.findall(\"^[\\/aou-]+[0-9]{1,2}\",data.experience[i]):\n",
    "            annee_exp = re.findall(\"[0-9]{1,2}\",data.experience[i])\n",
    "            annee_exp = ''.join(annee_exp)\n",
    "            annee_exp = float(annee_exp)\n",
    "            if annee_exp < 12:\n",
    "                liste_exp_demandee.append(annee_exp)\n",
    "            else : \n",
    "                liste_exp_demandee.append(float(0))\n",
    "                \n",
    "        #annee_exp commence par ^[1-9]+[\\/aou-]*\\d+ 1/2\n",
    "        elif re.findall(\"^[1-9]+[\\/aou-]+[0-9]+\",data.experience[i]):\n",
    "            x = re.findall(\"^[1-9]+[\\/aou-]+[0-9]+\",data.experience[i])\n",
    "            x = ''.join(x)\n",
    "            annee_exp_1 = re.findall(\"^[0-9]+\",x)\n",
    "            annee_exp_1 = ''.join(annee_exp_1)\n",
    "            annee_exp_1 = float(annee_exp_1)\n",
    "            annee_exp_2 = re.findall(\"[\\/aou-]+[0-9]+\",x)\n",
    "            annee_exp_2 = ''.join(annee_exp_2)\n",
    "            annee_exp_2 = re.sub(\"[a-zA-Z\\/]*\",\"\",annee_exp_2)\n",
    "            annee_exp_2 = ''.join(annee_exp_2)\n",
    "            annee_exp_2 = float(annee_exp_2)\n",
    "            annee_exp = (annee_exp_1 + annee_exp_2)/2\n",
    "            if annee_exp < 12:\n",
    "                liste_exp_demandee.append(annee_exp)\n",
    "            else : \n",
    "                liste_exp_demandee.append(float(0))\n",
    "                \n",
    "        #annee_exp commence par minimum2 \n",
    "        elif re.findall(\"^minimum[0-9]+\",data.experience[i]):\n",
    "            annee_exp = re.findall('minimum[0-9]+',data.experience[i])\n",
    "            annee_exp = ''.join(annee_exp)\n",
    "            annee_exp = re.sub(\"[a-zA-Z]\",\"\",annee_exp)\n",
    "            annee_exp = ''.join(annee_exp)\n",
    "            annee_exp = float(annee_exp)\n",
    "            if annee_exp < 12:\n",
    "                liste_exp_demandee.append(annee_exp)\n",
    "            else : \n",
    "                liste_exp_demandee.append(float(0))\n",
    "                \n",
    "        #pour les NaN\n",
    "        else :\n",
    "            liste_exp_demandee.append(float(0))\n",
    "            \n",
    "    data['exp_demandee'] = liste_exp_demandee"
   ]
  },
  {
   "cell_type": "markdown",
   "metadata": {},
   "source": [
    "# Transformation des données récupérées avec les RegEx 3\n",
    "\n",
    "Les termes trouvés via les RegEx pour les salaires sont transformés en float afin de pouvoir les utiliser lors du machine learning. "
   ]
  },
  {
   "cell_type": "code",
   "execution_count": null,
   "metadata": {},
   "outputs": [],
   "source": [
    "def salaire_description (data):\n",
    "    data.salaire_texte = data.salaire_texte.astype(str)\n",
    "    liste_min = []\n",
    "    liste_max = []\n",
    "    \n",
    "    for i in range(len(data.salaire_texte)):\n",
    "        \n",
    "        # Salaire de la forme : \"30-45000+12000\" OU \"30-45000\"\n",
    "        if re.findall('^[0-9]{2}-\\d+\\+*',data.salaire_texte[i]):\n",
    "            x_min = re.findall('^[0-9]{2}',data.salaire_texte[i])\n",
    "            x_min = ''.join(x_min)\n",
    "            x_min = x_min+\"000\"\n",
    "            x_min = float(x_min)\n",
    "            if re.findall('-[0-9]{5}\\+',data.salaire_texte[i]):\n",
    "                x_max = re.findall('-[0-9]{5}\\+',data.salaire_texte[i])\n",
    "                x_max = ''.join(x_max)\n",
    "                x_max = x_max.replace(\"-\", \"\")\n",
    "                x_max = x_max.replace(\"+\", \"\")\n",
    "                x_max = float(x_max)\n",
    "                if x_max > x_min:\n",
    "                    liste_min.append(x_min)\n",
    "                    liste_max.append(x_max)\n",
    "                else :\n",
    "                    liste_min.append(np.nan)\n",
    "                    liste_max.append(np.nan)\n",
    "                    \n",
    "            else :\n",
    "                x_max = re.findall('-[0-9]{5}',data.salaire_texte[i])\n",
    "                x_max = ''.join(x_max)\n",
    "                x_max = x_max.replace(\"-\", \"\")\n",
    "                x_max = float(x_max)\n",
    "                if x_max > x_min:\n",
    "                    liste_min.append(x_min)\n",
    "                    liste_max.append(x_max)\n",
    "                else :\n",
    "                    liste_min.append(np.nan)\n",
    "                    liste_max.append(np.nan)\n",
    "\n",
    "        # Salaire de la forme : \"30000-45000\"\n",
    "        elif re.findall('^[0-9]{5}-[0-9]{5}$',data.salaire_texte[i]):\n",
    "            x_min = re.findall('^[0-9]{5}',data.salaire_texte[i])\n",
    "            x_min = ''.join(x_min)\n",
    "            x_min = float(x_min)\n",
    "            x_max = re.findall('-[0-9]{5}$',data.salaire_texte[i])\n",
    "            x_max = ''.join(x_max)\n",
    "            x_max = x_max.replace(\"-\", \"\")\n",
    "            x_max = float(x_max)\n",
    "            if x_max > x_min:\n",
    "                liste_min.append(x_min)\n",
    "                liste_max.append(x_max)\n",
    "            else :\n",
    "                liste_min.append(np.nan)\n",
    "                liste_max.append(np.nan)\n",
    "                \n",
    "        # Salaire de la forme : \"30000\"\n",
    "        elif re.findall('^[0-9]{5}$',data.salaire_texte[i]):\n",
    "            x_unique = re.findall('^[0-9]{5}',data.salaire_texte[i])\n",
    "            x_unique = ''.join(x_unique)\n",
    "            x_unique = float(x_unique)\n",
    "            liste_min.append(x_unique)\n",
    "            liste_max.append(x_unique)\n",
    "            #liste_unique.append(x_unique)\n",
    "\n",
    "        # Salaire de la forme : \"3000045000\"\n",
    "        elif re.findall('^[1-9]{1}[0-9]{4}[1-9]{1}[0-9]{4}$',data.salaire_texte[i]):\n",
    "            x_min = re.findall('^[0-9]{5}',data.salaire_texte[i])\n",
    "            x_min = ''.join(x_min)\n",
    "            x_min = float(x_min)\n",
    "            x_max = re.findall('[0-9]{5}$',data.salaire_texte[i])\n",
    "            x_max = ''.join(x_max)\n",
    "            x_max = x_max.replace(\"-\", \"\")\n",
    "            x_max = float(x_max)\n",
    "            if x_max > x_min:\n",
    "                liste_min.append(x_min)\n",
    "                liste_max.append(x_max)\n",
    "            else :\n",
    "                liste_min.append(np.nan)\n",
    "                liste_max.append(np.nan)\n",
    "                \n",
    "        else:\n",
    "            liste_min.append(np.nan)\n",
    "            liste_max.append(np.nan)\n",
    "    \n",
    "    data['min_alex'] = liste_min \n",
    "    data['max_alex'] = liste_max"
   ]
  },
  {
   "cell_type": "code",
   "execution_count": null,
   "metadata": {},
   "outputs": [],
   "source": [
    "# LANCER LES DIFFERENTES FONCTIONS:\n",
    "annee_exp(data)\n",
    "salaire_description (data)"
   ]
  },
  {
   "cell_type": "markdown",
   "metadata": {},
   "source": [
    "# Récupération des salaires présents dans la rubrique salaire lors du scrapping"
   ]
  },
  {
   "cell_type": "code",
   "execution_count": null,
   "metadata": {},
   "outputs": [],
   "source": [
    "#Cette fonction nous permettra de travail sur des colonnes de string\n",
    "def formatage_columns(column, replaced_strings, strings):\n",
    "    column = column.astype(str)\n",
    "    for i in range(len(column)):\n",
    "        for x in range(len(replaced_strings)):\n",
    "            column.iloc[i] = column.iloc[i].replace(replaced_strings[x], strings[x])\n",
    "    \n",
    "    return column\n",
    "\n",
    "data['salaire'] = formatage_columns(data['salaire'], [\" \", \"par\"], [\"\", \" \"])\n",
    "\n",
    "#Les lignes avec le salaire horaire sont trop rare pour être significative, et potentiellement le produit d'erreur de scraping\n",
    "data['salaire'][data['salaire'].str.contains(\"heure\") == True] = \"NaN\"\n",
    "#On change la typo des NaN afin qu'il ne gène pas le regex sur les salaires car \"nan\" contient \"an\"\n",
    "data['salaire'][data['salaire'].str.contains(\"nan\") == True] = \"NaN\"\n",
    "\n",
    "#On crée deux listes qui serviront pour nos nouvelles colonnes\n",
    "\n",
    "salaires_min = []\n",
    "salaires_max = []\n",
    "\n",
    "#Puis on crée dictionnaire nous permettant de convertir tous les salaires en annuel. On a eu 253 jours ouvrés en 2018.\n",
    "converted_salary = {\"an\": 1, \"mois\": 12, \"semaine\": 52, \"jour\": 253}\n",
    "\n",
    "#On convertit nos salaires en annuel, et on append les salaires min et max dans nos listes\n",
    "\n",
    "for i in range(len(data['salaire'])):\n",
    "    l = re.findall(r'\\d+|an|mois|semaine|jour', data['salaire'].iloc[i])\n",
    "    if len(l) == 3: \n",
    "        salaires_min.append(float(l[0]) * converted_salary[l[~0]])\n",
    "        salaires_max.append(float(l[1]) * converted_salary[l[~0]])\n",
    "    elif len(l) == 2:\n",
    "        salaires_min.append(float(l[0]) * converted_salary[l[~0]])\n",
    "        salaires_max.append(float(l[0]) * converted_salary[l[~0]])\n",
    "    else:\n",
    "        salaires_min.append(np.nan)\n",
    "        salaires_max.append(np.nan)\n",
    "        \n",
    "data[\"min_salaire\"] = salaires_min\n",
    "data[\"max_salaire\"] = salaires_max"
   ]
  },
  {
   "cell_type": "markdown",
   "metadata": {},
   "source": [
    "# Ajout des salaire issu de la description du poste lors que ces derniers n'étaient pas présents dans la rubrique salaire"
   ]
  },
  {
   "cell_type": "code",
   "execution_count": null,
   "metadata": {},
   "outputs": [],
   "source": [
    "data['min_salaire'][data['min_salaire'] == \"NaN\"] = data['min_alex']\n",
    "data['max_salaire'][data['max_salaire'] == \"NaN\"] = data['max_alex']"
   ]
  },
  {
   "cell_type": "markdown",
   "metadata": {},
   "source": [
    "# Retrait des colonnes devenues inutiles\n",
    "\n",
    "c-a-d colonne \"experience\", \"salaire_texte\", \"min_alex\", \"max_alex\" qui servaient à verifier que les données extraites étaient réellement pertinentes"
   ]
  },
  {
   "cell_type": "code",
   "execution_count": null,
   "metadata": {},
   "outputs": [],
   "source": [
    "del data[\"experience\"]\n",
    "del data[\"salaire_texte\"]\n",
    "del data[\"min_alex\"]\n",
    "del data[\"max_alex\"]"
   ]
  },
  {
   "cell_type": "code",
   "execution_count": null,
   "metadata": {},
   "outputs": [],
   "source": [
    "#  EXPORTATION DES DONNEES EN CSV \n",
    "\n",
    "data = data.to_csv(\"data_preprocessing_v12.csv\")"
   ]
  },
  {
   "cell_type": "markdown",
   "metadata": {},
   "source": [
    "# Partie 2 - Le Machine Learning"
   ]
  },
  {
   "cell_type": "markdown",
   "metadata": {},
   "source": [
    "# Chargement des données nettoyées et des données NLP\n",
    "(cf. notebook NLP pour les données NLP)"
   ]
  },
  {
   "cell_type": "code",
   "execution_count": 2,
   "metadata": {},
   "outputs": [],
   "source": [
    "# LIRE LE CSV ISSU DU PREPROCESSING \n",
    "\n",
    "data = pd.read_csv(\"data_preprocessing_v12.csv\")\n",
    "data_nlp = pd.read_csv(\"topic_20bis.csv\")"
   ]
  },
  {
   "cell_type": "code",
   "execution_count": 3,
   "metadata": {},
   "outputs": [],
   "source": [
    "data_nlp.head()\n",
    "data = pd.concat([data, data_nlp], axis=1)"
   ]
  },
  {
   "cell_type": "markdown",
   "metadata": {},
   "source": [
    "# Selection des données ayant un salaire et separation en 3 jeux de données \n",
    "\n",
    "tous les salaires, les salaires concernant le pôle data et les salaires concernant le pôle developpement"
   ]
  },
  {
   "cell_type": "code",
   "execution_count": 4,
   "metadata": {},
   "outputs": [],
   "source": [
    "def salaire(data):\n",
    "    #nbr de données\n",
    "    nbr_tot = len(data)\n",
    "    #tous les salaire \n",
    "    df_salaire = data[data[\"min_salaire\"] > 0]\n",
    "    df_salaire = df_salaire[df_salaire[\"min_salaire\"] < 150000]\n",
    "    nbr_salaire = len(df_salaire)\n",
    "    #salaire concernant le pole dev\n",
    "    df_salaire_dev = data[data[\"min_salaire\"] > 0 ]\n",
    "    df_salaire_dev = df_salaire_dev[df_salaire_dev[\"min_salaire\"] < 150000]\n",
    "    df_salaire_dev = df_salaire_dev[df_salaire_dev[\"dev\"] == 1]\n",
    "    nbr_salaire_dev = len(df_salaire_dev)\n",
    "    #salaire concernant le pole data\n",
    "    df_salaire_data = data[data[\"min_salaire\"] > 0 ]\n",
    "    df_salaire_data = df_salaire_data[df_salaire_data[\"min_salaire\"] < 150000]\n",
    "    df_salaire_data = df_salaire_data[df_salaire_data[\"data\"] == 1]\n",
    "    nbr_salaire_data = len(df_salaire_data)\n",
    "    \n",
    "    #tableau récapitulatif\n",
    "    df = pd.DataFrame({'total': [nbr_salaire, float(nbr_salaire/nbr_tot)], \n",
    "                           'pole_dev': [nbr_salaire_dev, float(nbr_salaire_dev/nbr_tot)], \n",
    "                           'pole_data': [nbr_salaire_data, float(nbr_salaire_data/nbr_tot)]}, \n",
    "                          index= ['nbr_salaire', 'pourcentage_salaire'])\n",
    "    print(df)\n",
    "    return df_salaire, df_salaire_dev, df_salaire_data"
   ]
  },
  {
   "cell_type": "markdown",
   "metadata": {},
   "source": [
    "# Selection des données ayant un salaire et separation en 2 jeux de données \n",
    "\n",
    "les salaires concernant le'île de France et les salaires concernant la province"
   ]
  },
  {
   "cell_type": "code",
   "execution_count": 5,
   "metadata": {},
   "outputs": [],
   "source": [
    "def salaire2(data):\n",
    "    #nbr de données\n",
    "    nbr_tot = len(data)\n",
    "    \n",
    "    #salaire concernant l'IDF\n",
    "    df_salaire_idf = data[data[\"min_salaire\"] > 0 ]\n",
    "    df_salaire_idf = df_salaire_idf[df_salaire_idf[\"min_salaire\"] < 150000]\n",
    "    df_salaire_idf = df_salaire_idf[df_salaire_idf[\"Idf\"] == 1]\n",
    "    nbr_salaire_idf = len(df_salaire_idf)\n",
    "    \n",
    "    #salaire concernant la PROVINCE\n",
    "    df_salaire_province = data[data[\"min_salaire\"] > 0 ]\n",
    "    df_salaire_province = df_salaire_province[df_salaire_province[\"min_salaire\"] < 150000]\n",
    "    df_salaire_province = df_salaire_province[(df_salaire_province['Nantes'] == 1) | (df_salaire_province['Bordeaux'] == 1) | (df_salaire_province['Lyon'] == 1) | (df_salaire_province['Toulouse'] == 1)]\n",
    "    nbr_salaire_province = len(df_salaire_province)\n",
    "    \n",
    "    #tableau récapitulatif\n",
    "    df = pd.DataFrame({'pole_idf': [nbr_salaire_idf, float(nbr_salaire_idf/nbr_tot)], \n",
    "                        'pole_province': [nbr_salaire_province, float(nbr_salaire_province/nbr_tot)]}, \n",
    "                          index= ['nbr_salaire', 'pourcentage_salaire'])\n",
    "    print(df)\n",
    "    return df_salaire_idf, df_salaire_province"
   ]
  },
  {
   "cell_type": "markdown",
   "metadata": {},
   "source": [
    "# Obtention des différents jeux de données, informations relatives au nombre de salaire dans chaque groupe"
   ]
  },
  {
   "cell_type": "code",
   "execution_count": 6,
   "metadata": {},
   "outputs": [
    {
     "name": "stdout",
     "output_type": "stream",
     "text": [
      "                           total     pole_dev   pole_data\n",
      "nbr_salaire          3215.000000  2511.000000  920.000000\n",
      "pourcentage_salaire     0.165568     0.129313    0.047379\n",
      "                        pole_idf  pole_province\n",
      "nbr_salaire          2259.000000     956.000000\n",
      "pourcentage_salaire     0.116335       0.049233\n"
     ]
    }
   ],
   "source": [
    "df_salaire, df_salaire_dev, df_salaire_data = salaire(data)\n",
    "df_salaire_idf, df_salaire_province = salaire2(data)"
   ]
  },
  {
   "cell_type": "markdown",
   "metadata": {},
   "source": [
    "# Kmean sur les salaires afin d'en faire des groupes\n",
    "\n",
    "Nous avons séparés les salaires grâce à une classification de type Kmean, nous avons regarder le elbow plot pour les différents jeux de données. \n",
    "Le choix du nombre de cluster s'est porté sur 3 et 4 afin d'avoir des précisions et des cross validations les plus importants possibles."
   ]
  },
  {
   "cell_type": "code",
   "execution_count": 7,
   "metadata": {},
   "outputs": [],
   "source": [
    "def choisir_nbr_cluster(data):\n",
    "    #variable à clusteriser\n",
    "    y = data.loc[:,[\"min_salaire\", \"max_salaire\"]]\n",
    "\n",
    "    K = range(1,10)\n",
    "    \n",
    "    distortions = []\n",
    "    for k in K:\n",
    "        kmeanModel = KMeans(n_clusters=k)\n",
    "        try :\n",
    "            kmeanModel.fit(y)\n",
    "            distortions.append(sum(np.min(cdist(y, kmeanModel.cluster_centers_, 'euclidean'), axis=1)) / y.shape[0])\n",
    "        except:\n",
    "            print(k)\n",
    "            print(y)\n",
    "    # Montrer le elbow plot\n",
    "    plt.plot(K, distortions, 'bx-')\n",
    "    plt.xlabel('k')\n",
    "    plt.ylabel('Distortion')\n",
    "    plt.title('The Elbow Method showing the optimal k')\n",
    "    plt.show()\n",
    "\n",
    "\n",
    "def kmean_salaire(data, k):\n",
    "    #variable à clustoriser\n",
    "    X = data.loc[:,[\"min_salaire\", \"max_salaire\"]]\n",
    "    kmeans = KMeans(n_clusters=k, random_state=0).fit(X)\n",
    "    #ajout des labels dans le tableau\n",
    "    data[\"kmean_labels\"] = kmeans.labels_\n",
    "    return data"
   ]
  },
  {
   "cell_type": "code",
   "execution_count": 35,
   "metadata": {},
   "outputs": [
    {
     "data": {
      "image/png": "[encoded data removed]",
      "text/plain": [
       "<Figure size 432x288 with 1 Axes>"
      ]
     },
     "metadata": {
      "needs_background": "light"
     },
     "output_type": "display_data"
    },
    {
     "data": {
      "image/png": "[encoded data removed]",
      "text/plain": [
       "<Figure size 432x288 with 1 Axes>"
      ]
     },
     "metadata": {
      "needs_background": "light"
     },
     "output_type": "display_data"
    },
    {
     "data": {
      "image/png": "[encoded data removed]",
      "text/plain": [
       "<Figure size 432x288 with 1 Axes>"
      ]
     },
     "metadata": {
      "needs_background": "light"
     },
     "output_type": "display_data"
    }
   ],
   "source": [
    "# LANCER LES 2 FONCTIONS :\n",
    "choisir_nbr_cluster(df_salaire)\n",
    "choisir_nbr_cluster(df_salaire_idf)\n",
    "choisir_nbr_cluster(df_salaire_province)\n",
    "\n",
    "#df_salaire_cluster_3 = kmean_salaire(df_salaire, 3)\n",
    "df_salaire_cluster_4 = kmean_salaire(df_salaire, 4)\n",
    "\n",
    "#df_salaire_idf_cluster_3 = kmean_salaire(df_salaire_idf, 3)\n",
    "df_salaire_idf_cluster_4 = kmean_salaire(df_salaire_idf, 4)\n",
    "\n",
    "#df_salaire_province_cluster_3 = kmean_salaire(df_salaire_province, 3)\n",
    "df_salaire_province_cluster_4 = kmean_salaire(df_salaire_province, 4)"
   ]
  },
  {
   "cell_type": "markdown",
   "metadata": {},
   "source": [
    "# Visualisation des différents clusters générés par le kmean"
   ]
  },
  {
   "cell_type": "code",
   "execution_count": 36,
   "metadata": {},
   "outputs": [
    {
     "data": {
      "text/plain": [
       "<matplotlib.axes._subplots.AxesSubplot at 0x4fd69e550>"
      ]
     },
     "execution_count": 36,
     "metadata": {},
     "output_type": "execute_result"
    },
    {
     "data": {
      "image/png": "[encoded data removed]",
      "text/plain": [
       "<Figure size 432x288 with 1 Axes>"
      ]
     },
     "metadata": {
      "needs_background": "light"
     },
     "output_type": "display_data"
    }
   ],
   "source": [
    "sns.scatterplot(x=df_salaire_cluster_3.min_salaire,y=df_salaire_cluster_3.max_salaire, hue= df_salaire_cluster_3[\"kmean_labels\"])"
   ]
  },
  {
   "cell_type": "code",
   "execution_count": 37,
   "metadata": {},
   "outputs": [
    {
     "data": {
      "text/plain": [
       "<matplotlib.axes._subplots.AxesSubplot at 0x508f8ffd0>"
      ]
     },
     "execution_count": 37,
     "metadata": {},
     "output_type": "execute_result"
    },
    {
     "data": {
      "image/png": "[encoded data removed]",
      "text/plain": [
       "<Figure size 432x288 with 1 Axes>"
      ]
     },
     "metadata": {
      "needs_background": "light"
     },
     "output_type": "display_data"
    }
   ],
   "source": [
    "sns.scatterplot(x=df_salaire_idf_cluster_3.min_salaire,y=df_salaire_idf_cluster_3.max_salaire, hue= df_salaire_idf_cluster_3[\"kmean_labels\"])"
   ]
  },
  {
   "cell_type": "code",
   "execution_count": 38,
   "metadata": {},
   "outputs": [
    {
     "data": {
      "text/plain": [
       "<matplotlib.axes._subplots.AxesSubplot at 0x4fd73a860>"
      ]
     },
     "execution_count": 38,
     "metadata": {},
     "output_type": "execute_result"
    },
    {
     "data": {
      "image/png": "[encoded data removed]",
      "text/plain": [
       "<Figure size 432x288 with 1 Axes>"
      ]
     },
     "metadata": {
      "needs_background": "light"
     },
     "output_type": "display_data"
    }
   ],
   "source": [
    "sns.scatterplot(x=df_salaire_province_cluster_3.min_salaire,y=df_salaire_province_cluster_3.max_salaire, hue= df_salaire_province_cluster_3[\"kmean_labels\"])"
   ]
  },
  {
   "cell_type": "markdown",
   "metadata": {},
   "source": [
    "# Séparation des données en train et test"
   ]
  },
  {
   "cell_type": "code",
   "execution_count": 12,
   "metadata": {},
   "outputs": [],
   "source": [
    "# Fonction pour spliter les données\n",
    "\n",
    "def split_train_test(data):\n",
    "    #selection des variables explicatives\n",
    "    X = data.loc[:,['junior', 'senior', 'data', 'dev',\n",
    "                    'bac_3', 'bac_5', 'bac_8',\n",
    "                    'CDI', 'CDD','freelance_interim', 'stage_apprentissage', 'inconnu',\n",
    "                    'Nantes', 'Bordeaux','Idf','Lyon','Toulouse',\n",
    "                   \"0\", \"1\" ,\"2\" ,\"3\" ,\"4\" ,\"5\",\"6\" ,\"7\" ,\"8\" ,\"9\",\n",
    "                   \"10\" ,\"11\" ,\"12\" ,\"13\" ,\"14\" ,\"15\" ,\"16\" ,\"17\" ,\"18\" ,\"19\"]]\n",
    "    #selection de la variable à prédire\n",
    "    salaire_cluster =data[\"kmean_labels\"]\n",
    "    X_train, X_test, y_train, y_test = train_test_split(X,salaire_cluster, test_size=0.25, random_state=42)\n",
    "    return X_train, X_test, y_train, y_test"
   ]
  },
  {
   "cell_type": "code",
   "execution_count": 39,
   "metadata": {},
   "outputs": [],
   "source": [
    "#X_train_3, X_test_3, y_train_3, y_test_3 = split_train_test(df_salaire_cluster_3)\n",
    "X_train_4, X_test_4, y_train_4, y_test_4 = split_train_test(df_salaire_cluster_4)\n",
    "\n",
    "#X_train_dev, X_test_dev, y_train_dev, y_test_dev = split_train_test(df_salaire_dev_cluster)\n",
    "#X_train_data, X_test_data, y_train_data, y_test_data = split_train_test(df_salaire_data_cluster)\n",
    "\n",
    "#X_train_idf_3, X_test_idf_3, y_train_idf_3, y_test_idf_3 = split_train_test(df_salaire_idf_cluster_3)\n",
    "X_train_idf_4, X_test_idf_4, y_train_idf_4, y_test_idf_4 = split_train_test(df_salaire_idf_cluster_4)\n",
    "\n",
    "#X_train_province_3, X_test_province_3, y_train_province_3, y_test_province_3 = split_train_test(df_salaire_province_cluster_3)\n",
    "X_train_province_4, X_test_province_4, y_train_province_4, y_test_province_4 = split_train_test(df_salaire_province_cluster_4)"
   ]
  },
  {
   "cell_type": "markdown",
   "metadata": {},
   "source": [
    "# Lancer les différents algo de machine learning et trouver les caractéristiques associées - Round 1\n",
    "\n",
    "Ce premier test nous a permis de tester les différentes variables explicatives et de choisir celles qui étaient pertinentes ou non. Cela nous a aussi permis de tester l'impact de nos divisions de salaire (soit en fonction du pôle dev/data, soit en fonction de la géographie île-de-France/Province."
   ]
  },
  {
   "cell_type": "code",
   "execution_count": 40,
   "metadata": {},
   "outputs": [],
   "source": [
    "def machine_learning_round_1(data, X_train, X_test, y_train, y_test):\n",
    "    X = data.loc[:,['junior', 'senior', 'data', 'dev', \n",
    "                    'bac_3', 'bac_5', 'bac_8',\n",
    "                    'CDI', 'CDD','freelance_interim', 'stage_apprentissage', 'inconnu',\n",
    "                    'Nantes', 'Bordeaux','Idf','Lyon','Toulouse', \n",
    "                   \"0\", \"1\" ,\"2\" ,\"3\" ,\"4\" ,\"5\",\"6\" ,\"7\" ,\"8\" ,\"9\",\n",
    "                    \"10\" ,\"11\" ,\"12\" ,\"13\" ,\"14\" ,\"15\" ,\"16\" ,\"17\" ,\"18\" ,\"19\"]]\n",
    "    #selection de la variable à prédire\n",
    "    salaire_cluster =data[\"kmean_labels\"]\n",
    "    \n",
    "    \n",
    "    #random forest\n",
    "    clf = RandomForestClassifier(n_estimators=100, max_depth=2, random_state=0)\n",
    "    clf.fit(X_train, y_train) \n",
    "    y_pred_test = clf.predict(X_test)\n",
    "    y_pred_train = clf.predict(X_train)\n",
    "    clf_cross_val = cross_val_score(clf, X, salaire_cluster, cv=10, scoring= 'accuracy')\n",
    "    clf_cross_val_m = clf_cross_val.mean()\n",
    "    rf_test = accuracy_score(y_test, y_pred_test)\n",
    "    rf_train = accuracy_score(y_train, y_pred_train)\n",
    "    rf_recall = recall_score(y_train, y_pred_train, average='weighted')\n",
    "    rf_f1 = f1_score(y_train, y_pred_train, average='weighted')  \n",
    "\n",
    "    #SVM Kernel 'linear'       \n",
    "    SVM = svm.SVC(kernel='linear', random_state=0)\n",
    "    SVM.fit(X_train, y_train)\n",
    "    y_pred_test = SVM.predict(X_test)\n",
    "    y_pred_train = SVM.predict(X_train)\n",
    "    svm_cross_val = cross_val_score(SVM, X, salaire_cluster, cv=10, scoring= 'accuracy')\n",
    "    svm_cross_val_m = svm_cross_val.mean()\n",
    "    svm_test = accuracy_score(y_test, y_pred_test)\n",
    "    svm_train = accuracy_score(y_train, y_pred_train)\n",
    "    svm_recall = recall_score(y_train, y_pred_train, average='weighted')\n",
    "    svm_f1 = f1_score(y_train, y_pred_train, average='weighted')  \n",
    "\n",
    "    #SVM Kernel 'rbf'\n",
    "    SVMrbf = svm.SVC(kernel='rbf', random_state=0)\n",
    "    SVMrbf.fit(X_train, y_train)\n",
    "    y_pred_test = SVMrbf.predict(X_test)\n",
    "    y_pred_train = SVMrbf.predict(X_train)\n",
    "    svm2_cross_val = cross_val_score(SVMrbf, X, salaire_cluster, cv=10, scoring= 'accuracy')\n",
    "    svm2_cross_val_m = svm2_cross_val.mean()\n",
    "    svm2_test = accuracy_score(y_test, y_pred_test)\n",
    "    svm2_train = accuracy_score(y_train, y_pred_train)\n",
    "    svm2_recall = recall_score(y_train, y_pred_train, average='weighted')\n",
    "    svm2_f1 = f1_score(y_train, y_pred_train, average='weighted') \n",
    "\n",
    "    # Adaboost\n",
    "    ada = AdaBoostClassifier(n_estimators=100, random_state=0)\n",
    "    ada.fit(X_train, y_train)\n",
    "    y_pred_test = ada.predict(X_test)\n",
    "    y_pred_train = ada.predict(X_train)\n",
    "    ada_cross_val = cross_val_score(ada, X, salaire_cluster, cv=10, scoring= 'accuracy')\n",
    "    ada_cross_val_m = ada_cross_val.mean()\n",
    "    ada_test = accuracy_score(y_test, y_pred_test)\n",
    "    ada_train = accuracy_score(y_train, y_pred_train)\n",
    "    ada_recall = recall_score(y_train, y_pred_train, average='weighted')\n",
    "    ada_f1 = f1_score(y_train, y_pred_train, average='weighted')\n",
    "\n",
    "    # XGBoost\n",
    "    params = {'max_depth': 3,  # the maximum depth of each tree\n",
    "        'learning_rate': 1.0,  \n",
    "        'silent': 1, \n",
    "        'objective': 'multi:softprob',  \n",
    "        'n_estimators': 5}  \n",
    "    bst = XGBClassifier(**params).fit(X_train, y_train)\n",
    "    y_pred_test = bst.predict(X_test)\n",
    "    y_pred_train = bst.predict(X_train)\n",
    "    xg_cross_val = cross_val_score(bst, X, salaire_cluster, cv=10, scoring= 'accuracy')\n",
    "    xg_cross_val_m = xg_cross_val.mean()\n",
    "    xg_test = accuracy_score(y_test, y_pred_test)\n",
    "    xg_train = accuracy_score(y_train, y_pred_train)\n",
    "    xg_recall = recall_score(y_train, y_pred_train, average='weighted')\n",
    "    xg_f1 = f1_score(y_train, y_pred_train, average='weighted')\n",
    "    \n",
    "    #tableau récapitulatif\n",
    "    df = pd.DataFrame({'random forest': [rf_train, rf_test, rf_recall, rf_f1, clf_cross_val_m], \n",
    "                           'SVM_linear': [svm_train, svm_test, svm_recall, svm_f1, svm_cross_val_m], \n",
    "                           'SVM_rbf': [svm2_train, svm2_test, svm2_recall, svm2_f1, svm2_cross_val_m], \n",
    "                           'Adaboost': [ada_train, ada_test, ada_recall, ada_f1, ada_cross_val_m ], \n",
    "                           'XGBoost': [xg_train, xg_test, xg_recall, xg_f1, xg_cross_val_m]},\n",
    "                          index = ['accuracy_train', 'accuracy_test', 'recall_train', 'f1_train', 'cross_validation'])\n",
    "    print(df)\n",
    "    return df"
   ]
  },
  {
   "cell_type": "code",
   "execution_count": 41,
   "metadata": {},
   "outputs": [
    {
     "name": "stderr",
     "output_type": "stream",
     "text": [
      "C:\\Users\\Alexandra\\Anaconda3\\lib\\site-packages\\sklearn\\metrics\\classification.py:1437: UndefinedMetricWarning: F-score is ill-defined and being set to 0.0 in labels with no predicted samples.\n",
      "  'precision', 'predicted', average, warn_for)\n",
      "C:\\Users\\Alexandra\\Anaconda3\\lib\\site-packages\\sklearn\\metrics\\classification.py:1437: UndefinedMetricWarning: F-score is ill-defined and being set to 0.0 in labels with no predicted samples.\n",
      "  'precision', 'predicted', average, warn_for)\n",
      "C:\\Users\\Alexandra\\Anaconda3\\lib\\site-packages\\sklearn\\svm\\base.py:193: FutureWarning: The default value of gamma will change from 'auto' to 'scale' in version 0.22 to account better for unscaled features. Set gamma explicitly to 'auto' or 'scale' to avoid this warning.\n",
      "  \"avoid this warning.\", FutureWarning)\n",
      "C:\\Users\\Alexandra\\Anaconda3\\lib\\site-packages\\sklearn\\svm\\base.py:193: FutureWarning: The default value of gamma will change from 'auto' to 'scale' in version 0.22 to account better for unscaled features. Set gamma explicitly to 'auto' or 'scale' to avoid this warning.\n",
      "  \"avoid this warning.\", FutureWarning)\n",
      "C:\\Users\\Alexandra\\Anaconda3\\lib\\site-packages\\sklearn\\svm\\base.py:193: FutureWarning: The default value of gamma will change from 'auto' to 'scale' in version 0.22 to account better for unscaled features. Set gamma explicitly to 'auto' or 'scale' to avoid this warning.\n",
      "  \"avoid this warning.\", FutureWarning)\n",
      "C:\\Users\\Alexandra\\Anaconda3\\lib\\site-packages\\sklearn\\svm\\base.py:193: FutureWarning: The default value of gamma will change from 'auto' to 'scale' in version 0.22 to account better for unscaled features. Set gamma explicitly to 'auto' or 'scale' to avoid this warning.\n",
      "  \"avoid this warning.\", FutureWarning)\n",
      "C:\\Users\\Alexandra\\Anaconda3\\lib\\site-packages\\sklearn\\svm\\base.py:193: FutureWarning: The default value of gamma will change from 'auto' to 'scale' in version 0.22 to account better for unscaled features. Set gamma explicitly to 'auto' or 'scale' to avoid this warning.\n",
      "  \"avoid this warning.\", FutureWarning)\n",
      "C:\\Users\\Alexandra\\Anaconda3\\lib\\site-packages\\sklearn\\svm\\base.py:193: FutureWarning: The default value of gamma will change from 'auto' to 'scale' in version 0.22 to account better for unscaled features. Set gamma explicitly to 'auto' or 'scale' to avoid this warning.\n",
      "  \"avoid this warning.\", FutureWarning)\n",
      "C:\\Users\\Alexandra\\Anaconda3\\lib\\site-packages\\sklearn\\svm\\base.py:193: FutureWarning: The default value of gamma will change from 'auto' to 'scale' in version 0.22 to account better for unscaled features. Set gamma explicitly to 'auto' or 'scale' to avoid this warning.\n",
      "  \"avoid this warning.\", FutureWarning)\n",
      "C:\\Users\\Alexandra\\Anaconda3\\lib\\site-packages\\sklearn\\svm\\base.py:193: FutureWarning: The default value of gamma will change from 'auto' to 'scale' in version 0.22 to account better for unscaled features. Set gamma explicitly to 'auto' or 'scale' to avoid this warning.\n",
      "  \"avoid this warning.\", FutureWarning)\n",
      "C:\\Users\\Alexandra\\Anaconda3\\lib\\site-packages\\sklearn\\svm\\base.py:193: FutureWarning: The default value of gamma will change from 'auto' to 'scale' in version 0.22 to account better for unscaled features. Set gamma explicitly to 'auto' or 'scale' to avoid this warning.\n",
      "  \"avoid this warning.\", FutureWarning)\n",
      "C:\\Users\\Alexandra\\Anaconda3\\lib\\site-packages\\sklearn\\svm\\base.py:193: FutureWarning: The default value of gamma will change from 'auto' to 'scale' in version 0.22 to account better for unscaled features. Set gamma explicitly to 'auto' or 'scale' to avoid this warning.\n",
      "  \"avoid this warning.\", FutureWarning)\n",
      "C:\\Users\\Alexandra\\Anaconda3\\lib\\site-packages\\sklearn\\svm\\base.py:193: FutureWarning: The default value of gamma will change from 'auto' to 'scale' in version 0.22 to account better for unscaled features. Set gamma explicitly to 'auto' or 'scale' to avoid this warning.\n",
      "  \"avoid this warning.\", FutureWarning)\n",
      "C:\\Users\\Alexandra\\Anaconda3\\lib\\site-packages\\sklearn\\metrics\\classification.py:1437: UndefinedMetricWarning: F-score is ill-defined and being set to 0.0 in labels with no predicted samples.\n",
      "  'precision', 'predicted', average, warn_for)\n"
     ]
    },
    {
     "name": "stdout",
     "output_type": "stream",
     "text": [
      "                  random forest  SVM_linear   SVM_rbf  Adaboost   XGBoost\n",
      "accuracy_train         0.549564    0.660307  0.654085  0.653671  0.745749\n",
      "accuracy_test          0.541045    0.659204  0.656716  0.644279  0.694030\n",
      "recall_train           0.549564    0.660307  0.654085  0.653671  0.745749\n",
      "f1_train               0.453239    0.645483  0.638270  0.652413  0.739330\n",
      "cross_validation       0.520421    0.652022  0.652949  0.548254  0.644711\n"
     ]
    },
    {
     "data": {
      "text/html": [
       "<div>\n",
       "<style scoped>\n",
       "    .dataframe tbody tr th:only-of-type {\n",
       "        vertical-align: middle;\n",
       "    }\n",
       "\n",
       "    .dataframe tbody tr th {\n",
       "        vertical-align: top;\n",
       "    }\n",
       "\n",
       "    .dataframe thead th {\n",
       "        text-align: right;\n",
       "    }\n",
       "</style>\n",
       "<table border=\"1\" class=\"dataframe\">\n",
       "  <thead>\n",
       "    <tr style=\"text-align: right;\">\n",
       "      <th></th>\n",
       "      <th>random forest</th>\n",
       "      <th>SVM_linear</th>\n",
       "      <th>SVM_rbf</th>\n",
       "      <th>Adaboost</th>\n",
       "      <th>XGBoost</th>\n",
       "    </tr>\n",
       "  </thead>\n",
       "  <tbody>\n",
       "    <tr>\n",
       "      <th>accuracy_train</th>\n",
       "      <td>0.549564</td>\n",
       "      <td>0.660307</td>\n",
       "      <td>0.654085</td>\n",
       "      <td>0.653671</td>\n",
       "      <td>0.745749</td>\n",
       "    </tr>\n",
       "    <tr>\n",
       "      <th>accuracy_test</th>\n",
       "      <td>0.541045</td>\n",
       "      <td>0.659204</td>\n",
       "      <td>0.656716</td>\n",
       "      <td>0.644279</td>\n",
       "      <td>0.694030</td>\n",
       "    </tr>\n",
       "    <tr>\n",
       "      <th>recall_train</th>\n",
       "      <td>0.549564</td>\n",
       "      <td>0.660307</td>\n",
       "      <td>0.654085</td>\n",
       "      <td>0.653671</td>\n",
       "      <td>0.745749</td>\n",
       "    </tr>\n",
       "    <tr>\n",
       "      <th>f1_train</th>\n",
       "      <td>0.453239</td>\n",
       "      <td>0.645483</td>\n",
       "      <td>0.638270</td>\n",
       "      <td>0.652413</td>\n",
       "      <td>0.739330</td>\n",
       "    </tr>\n",
       "    <tr>\n",
       "      <th>cross_validation</th>\n",
       "      <td>0.520421</td>\n",
       "      <td>0.652022</td>\n",
       "      <td>0.652949</td>\n",
       "      <td>0.548254</td>\n",
       "      <td>0.644711</td>\n",
       "    </tr>\n",
       "  </tbody>\n",
       "</table>\n",
       "</div>"
      ],
      "text/plain": [
       "                  random forest  SVM_linear   SVM_rbf  Adaboost   XGBoost\n",
       "accuracy_train         0.549564    0.660307  0.654085  0.653671  0.745749\n",
       "accuracy_test          0.541045    0.659204  0.656716  0.644279  0.694030\n",
       "recall_train           0.549564    0.660307  0.654085  0.653671  0.745749\n",
       "f1_train               0.453239    0.645483  0.638270  0.652413  0.739330\n",
       "cross_validation       0.520421    0.652022  0.652949  0.548254  0.644711"
      ]
     },
     "execution_count": 41,
     "metadata": {},
     "output_type": "execute_result"
    }
   ],
   "source": [
    "#machine_learning_round_1(df_salaire_cluster_3, X_train_3, X_test_3, y_train_3, y_test_3)\n",
    "machine_learning_round_1(df_salaire_cluster_4, X_train_4, X_test_4, y_train_4, y_test_4)"
   ]
  },
  {
   "cell_type": "code",
   "execution_count": 42,
   "metadata": {},
   "outputs": [
    {
     "name": "stderr",
     "output_type": "stream",
     "text": [
      "C:\\Users\\Alexandra\\Anaconda3\\lib\\site-packages\\sklearn\\metrics\\classification.py:1437: UndefinedMetricWarning: F-score is ill-defined and being set to 0.0 in labels with no predicted samples.\n",
      "  'precision', 'predicted', average, warn_for)\n",
      "C:\\Users\\Alexandra\\Anaconda3\\lib\\site-packages\\sklearn\\metrics\\classification.py:1437: UndefinedMetricWarning: F-score is ill-defined and being set to 0.0 in labels with no predicted samples.\n",
      "  'precision', 'predicted', average, warn_for)\n",
      "C:\\Users\\Alexandra\\Anaconda3\\lib\\site-packages\\sklearn\\svm\\base.py:193: FutureWarning: The default value of gamma will change from 'auto' to 'scale' in version 0.22 to account better for unscaled features. Set gamma explicitly to 'auto' or 'scale' to avoid this warning.\n",
      "  \"avoid this warning.\", FutureWarning)\n",
      "C:\\Users\\Alexandra\\Anaconda3\\lib\\site-packages\\sklearn\\svm\\base.py:193: FutureWarning: The default value of gamma will change from 'auto' to 'scale' in version 0.22 to account better for unscaled features. Set gamma explicitly to 'auto' or 'scale' to avoid this warning.\n",
      "  \"avoid this warning.\", FutureWarning)\n",
      "C:\\Users\\Alexandra\\Anaconda3\\lib\\site-packages\\sklearn\\svm\\base.py:193: FutureWarning: The default value of gamma will change from 'auto' to 'scale' in version 0.22 to account better for unscaled features. Set gamma explicitly to 'auto' or 'scale' to avoid this warning.\n",
      "  \"avoid this warning.\", FutureWarning)\n",
      "C:\\Users\\Alexandra\\Anaconda3\\lib\\site-packages\\sklearn\\svm\\base.py:193: FutureWarning: The default value of gamma will change from 'auto' to 'scale' in version 0.22 to account better for unscaled features. Set gamma explicitly to 'auto' or 'scale' to avoid this warning.\n",
      "  \"avoid this warning.\", FutureWarning)\n",
      "C:\\Users\\Alexandra\\Anaconda3\\lib\\site-packages\\sklearn\\svm\\base.py:193: FutureWarning: The default value of gamma will change from 'auto' to 'scale' in version 0.22 to account better for unscaled features. Set gamma explicitly to 'auto' or 'scale' to avoid this warning.\n",
      "  \"avoid this warning.\", FutureWarning)\n",
      "C:\\Users\\Alexandra\\Anaconda3\\lib\\site-packages\\sklearn\\svm\\base.py:193: FutureWarning: The default value of gamma will change from 'auto' to 'scale' in version 0.22 to account better for unscaled features. Set gamma explicitly to 'auto' or 'scale' to avoid this warning.\n",
      "  \"avoid this warning.\", FutureWarning)\n",
      "C:\\Users\\Alexandra\\Anaconda3\\lib\\site-packages\\sklearn\\svm\\base.py:193: FutureWarning: The default value of gamma will change from 'auto' to 'scale' in version 0.22 to account better for unscaled features. Set gamma explicitly to 'auto' or 'scale' to avoid this warning.\n",
      "  \"avoid this warning.\", FutureWarning)\n",
      "C:\\Users\\Alexandra\\Anaconda3\\lib\\site-packages\\sklearn\\svm\\base.py:193: FutureWarning: The default value of gamma will change from 'auto' to 'scale' in version 0.22 to account better for unscaled features. Set gamma explicitly to 'auto' or 'scale' to avoid this warning.\n",
      "  \"avoid this warning.\", FutureWarning)\n",
      "C:\\Users\\Alexandra\\Anaconda3\\lib\\site-packages\\sklearn\\svm\\base.py:193: FutureWarning: The default value of gamma will change from 'auto' to 'scale' in version 0.22 to account better for unscaled features. Set gamma explicitly to 'auto' or 'scale' to avoid this warning.\n",
      "  \"avoid this warning.\", FutureWarning)\n",
      "C:\\Users\\Alexandra\\Anaconda3\\lib\\site-packages\\sklearn\\svm\\base.py:193: FutureWarning: The default value of gamma will change from 'auto' to 'scale' in version 0.22 to account better for unscaled features. Set gamma explicitly to 'auto' or 'scale' to avoid this warning.\n",
      "  \"avoid this warning.\", FutureWarning)\n",
      "C:\\Users\\Alexandra\\Anaconda3\\lib\\site-packages\\sklearn\\svm\\base.py:193: FutureWarning: The default value of gamma will change from 'auto' to 'scale' in version 0.22 to account better for unscaled features. Set gamma explicitly to 'auto' or 'scale' to avoid this warning.\n",
      "  \"avoid this warning.\", FutureWarning)\n",
      "C:\\Users\\Alexandra\\Anaconda3\\lib\\site-packages\\sklearn\\metrics\\classification.py:1437: UndefinedMetricWarning: F-score is ill-defined and being set to 0.0 in labels with no predicted samples.\n",
      "  'precision', 'predicted', average, warn_for)\n"
     ]
    },
    {
     "name": "stdout",
     "output_type": "stream",
     "text": [
      "                  random forest  SVM_linear   SVM_rbf  Adaboost   XGBoost\n",
      "accuracy_train         0.634593    0.648760  0.622196  0.591499  0.752656\n",
      "accuracy_test          0.592920    0.598230  0.582301  0.552212  0.679646\n",
      "recall_train           0.634593    0.648760  0.622196  0.591499  0.752656\n",
      "f1_train               0.556623    0.619553  0.511572  0.593886  0.742092\n",
      "cross_validation       0.609441    0.594627  0.591270  0.551289  0.619091\n"
     ]
    },
    {
     "data": {
      "text/html": [
       "<div>\n",
       "<style scoped>\n",
       "    .dataframe tbody tr th:only-of-type {\n",
       "        vertical-align: middle;\n",
       "    }\n",
       "\n",
       "    .dataframe tbody tr th {\n",
       "        vertical-align: top;\n",
       "    }\n",
       "\n",
       "    .dataframe thead th {\n",
       "        text-align: right;\n",
       "    }\n",
       "</style>\n",
       "<table border=\"1\" class=\"dataframe\">\n",
       "  <thead>\n",
       "    <tr style=\"text-align: right;\">\n",
       "      <th></th>\n",
       "      <th>random forest</th>\n",
       "      <th>SVM_linear</th>\n",
       "      <th>SVM_rbf</th>\n",
       "      <th>Adaboost</th>\n",
       "      <th>XGBoost</th>\n",
       "    </tr>\n",
       "  </thead>\n",
       "  <tbody>\n",
       "    <tr>\n",
       "      <th>accuracy_train</th>\n",
       "      <td>0.634593</td>\n",
       "      <td>0.648760</td>\n",
       "      <td>0.622196</td>\n",
       "      <td>0.591499</td>\n",
       "      <td>0.752656</td>\n",
       "    </tr>\n",
       "    <tr>\n",
       "      <th>accuracy_test</th>\n",
       "      <td>0.592920</td>\n",
       "      <td>0.598230</td>\n",
       "      <td>0.582301</td>\n",
       "      <td>0.552212</td>\n",
       "      <td>0.679646</td>\n",
       "    </tr>\n",
       "    <tr>\n",
       "      <th>recall_train</th>\n",
       "      <td>0.634593</td>\n",
       "      <td>0.648760</td>\n",
       "      <td>0.622196</td>\n",
       "      <td>0.591499</td>\n",
       "      <td>0.752656</td>\n",
       "    </tr>\n",
       "    <tr>\n",
       "      <th>f1_train</th>\n",
       "      <td>0.556623</td>\n",
       "      <td>0.619553</td>\n",
       "      <td>0.511572</td>\n",
       "      <td>0.593886</td>\n",
       "      <td>0.742092</td>\n",
       "    </tr>\n",
       "    <tr>\n",
       "      <th>cross_validation</th>\n",
       "      <td>0.609441</td>\n",
       "      <td>0.594627</td>\n",
       "      <td>0.591270</td>\n",
       "      <td>0.551289</td>\n",
       "      <td>0.619091</td>\n",
       "    </tr>\n",
       "  </tbody>\n",
       "</table>\n",
       "</div>"
      ],
      "text/plain": [
       "                  random forest  SVM_linear   SVM_rbf  Adaboost   XGBoost\n",
       "accuracy_train         0.634593    0.648760  0.622196  0.591499  0.752656\n",
       "accuracy_test          0.592920    0.598230  0.582301  0.552212  0.679646\n",
       "recall_train           0.634593    0.648760  0.622196  0.591499  0.752656\n",
       "f1_train               0.556623    0.619553  0.511572  0.593886  0.742092\n",
       "cross_validation       0.609441    0.594627  0.591270  0.551289  0.619091"
      ]
     },
     "execution_count": 42,
     "metadata": {},
     "output_type": "execute_result"
    }
   ],
   "source": [
    "#machine_learning_round_1(df_salaire_idf_cluster_3,X_train_idf_3, X_test_idf_3, y_train_idf_3, y_test_idf_3)\n",
    "machine_learning_round_1(df_salaire_idf_cluster_4,X_train_idf_4, X_test_idf_4, y_train_idf_4, y_test_idf_4)"
   ]
  },
  {
   "cell_type": "code",
   "execution_count": 43,
   "metadata": {},
   "outputs": [
    {
     "name": "stderr",
     "output_type": "stream",
     "text": [
      "C:\\Users\\Alexandra\\Anaconda3\\lib\\site-packages\\sklearn\\metrics\\classification.py:1437: UndefinedMetricWarning: F-score is ill-defined and being set to 0.0 in labels with no predicted samples.\n",
      "  'precision', 'predicted', average, warn_for)\n",
      "C:\\Users\\Alexandra\\Anaconda3\\lib\\site-packages\\sklearn\\metrics\\classification.py:1437: UndefinedMetricWarning: F-score is ill-defined and being set to 0.0 in labels with no predicted samples.\n",
      "  'precision', 'predicted', average, warn_for)\n",
      "C:\\Users\\Alexandra\\Anaconda3\\lib\\site-packages\\sklearn\\svm\\base.py:193: FutureWarning: The default value of gamma will change from 'auto' to 'scale' in version 0.22 to account better for unscaled features. Set gamma explicitly to 'auto' or 'scale' to avoid this warning.\n",
      "  \"avoid this warning.\", FutureWarning)\n",
      "C:\\Users\\Alexandra\\Anaconda3\\lib\\site-packages\\sklearn\\svm\\base.py:193: FutureWarning: The default value of gamma will change from 'auto' to 'scale' in version 0.22 to account better for unscaled features. Set gamma explicitly to 'auto' or 'scale' to avoid this warning.\n",
      "  \"avoid this warning.\", FutureWarning)\n",
      "C:\\Users\\Alexandra\\Anaconda3\\lib\\site-packages\\sklearn\\svm\\base.py:193: FutureWarning: The default value of gamma will change from 'auto' to 'scale' in version 0.22 to account better for unscaled features. Set gamma explicitly to 'auto' or 'scale' to avoid this warning.\n",
      "  \"avoid this warning.\", FutureWarning)\n",
      "C:\\Users\\Alexandra\\Anaconda3\\lib\\site-packages\\sklearn\\svm\\base.py:193: FutureWarning: The default value of gamma will change from 'auto' to 'scale' in version 0.22 to account better for unscaled features. Set gamma explicitly to 'auto' or 'scale' to avoid this warning.\n",
      "  \"avoid this warning.\", FutureWarning)\n",
      "C:\\Users\\Alexandra\\Anaconda3\\lib\\site-packages\\sklearn\\svm\\base.py:193: FutureWarning: The default value of gamma will change from 'auto' to 'scale' in version 0.22 to account better for unscaled features. Set gamma explicitly to 'auto' or 'scale' to avoid this warning.\n",
      "  \"avoid this warning.\", FutureWarning)\n",
      "C:\\Users\\Alexandra\\Anaconda3\\lib\\site-packages\\sklearn\\svm\\base.py:193: FutureWarning: The default value of gamma will change from 'auto' to 'scale' in version 0.22 to account better for unscaled features. Set gamma explicitly to 'auto' or 'scale' to avoid this warning.\n",
      "  \"avoid this warning.\", FutureWarning)\n",
      "C:\\Users\\Alexandra\\Anaconda3\\lib\\site-packages\\sklearn\\svm\\base.py:193: FutureWarning: The default value of gamma will change from 'auto' to 'scale' in version 0.22 to account better for unscaled features. Set gamma explicitly to 'auto' or 'scale' to avoid this warning.\n",
      "  \"avoid this warning.\", FutureWarning)\n",
      "C:\\Users\\Alexandra\\Anaconda3\\lib\\site-packages\\sklearn\\svm\\base.py:193: FutureWarning: The default value of gamma will change from 'auto' to 'scale' in version 0.22 to account better for unscaled features. Set gamma explicitly to 'auto' or 'scale' to avoid this warning.\n",
      "  \"avoid this warning.\", FutureWarning)\n",
      "C:\\Users\\Alexandra\\Anaconda3\\lib\\site-packages\\sklearn\\svm\\base.py:193: FutureWarning: The default value of gamma will change from 'auto' to 'scale' in version 0.22 to account better for unscaled features. Set gamma explicitly to 'auto' or 'scale' to avoid this warning.\n",
      "  \"avoid this warning.\", FutureWarning)\n",
      "C:\\Users\\Alexandra\\Anaconda3\\lib\\site-packages\\sklearn\\svm\\base.py:193: FutureWarning: The default value of gamma will change from 'auto' to 'scale' in version 0.22 to account better for unscaled features. Set gamma explicitly to 'auto' or 'scale' to avoid this warning.\n",
      "  \"avoid this warning.\", FutureWarning)\n",
      "C:\\Users\\Alexandra\\Anaconda3\\lib\\site-packages\\sklearn\\svm\\base.py:193: FutureWarning: The default value of gamma will change from 'auto' to 'scale' in version 0.22 to account better for unscaled features. Set gamma explicitly to 'auto' or 'scale' to avoid this warning.\n",
      "  \"avoid this warning.\", FutureWarning)\n",
      "C:\\Users\\Alexandra\\Anaconda3\\lib\\site-packages\\sklearn\\metrics\\classification.py:1437: UndefinedMetricWarning: F-score is ill-defined and being set to 0.0 in labels with no predicted samples.\n",
      "  'precision', 'predicted', average, warn_for)\n"
     ]
    },
    {
     "name": "stdout",
     "output_type": "stream",
     "text": [
      "                  random forest  SVM_linear   SVM_rbf  Adaboost   XGBoost\n",
      "accuracy_train         0.670851    0.697350  0.679219  0.489540  0.831241\n",
      "accuracy_test          0.648536    0.673640  0.665272  0.460251  0.715481\n",
      "recall_train           0.670851    0.697350  0.679219  0.489540  0.831241\n",
      "f1_train               0.556308    0.599884  0.569221  0.506318  0.816168\n",
      "cross_validation       0.653769    0.631084  0.675810  0.531678  0.660870\n"
     ]
    },
    {
     "data": {
      "text/html": [
       "<div>\n",
       "<style scoped>\n",
       "    .dataframe tbody tr th:only-of-type {\n",
       "        vertical-align: middle;\n",
       "    }\n",
       "\n",
       "    .dataframe tbody tr th {\n",
       "        vertical-align: top;\n",
       "    }\n",
       "\n",
       "    .dataframe thead th {\n",
       "        text-align: right;\n",
       "    }\n",
       "</style>\n",
       "<table border=\"1\" class=\"dataframe\">\n",
       "  <thead>\n",
       "    <tr style=\"text-align: right;\">\n",
       "      <th></th>\n",
       "      <th>random forest</th>\n",
       "      <th>SVM_linear</th>\n",
       "      <th>SVM_rbf</th>\n",
       "      <th>Adaboost</th>\n",
       "      <th>XGBoost</th>\n",
       "    </tr>\n",
       "  </thead>\n",
       "  <tbody>\n",
       "    <tr>\n",
       "      <th>accuracy_train</th>\n",
       "      <td>0.670851</td>\n",
       "      <td>0.697350</td>\n",
       "      <td>0.679219</td>\n",
       "      <td>0.489540</td>\n",
       "      <td>0.831241</td>\n",
       "    </tr>\n",
       "    <tr>\n",
       "      <th>accuracy_test</th>\n",
       "      <td>0.648536</td>\n",
       "      <td>0.673640</td>\n",
       "      <td>0.665272</td>\n",
       "      <td>0.460251</td>\n",
       "      <td>0.715481</td>\n",
       "    </tr>\n",
       "    <tr>\n",
       "      <th>recall_train</th>\n",
       "      <td>0.670851</td>\n",
       "      <td>0.697350</td>\n",
       "      <td>0.679219</td>\n",
       "      <td>0.489540</td>\n",
       "      <td>0.831241</td>\n",
       "    </tr>\n",
       "    <tr>\n",
       "      <th>f1_train</th>\n",
       "      <td>0.556308</td>\n",
       "      <td>0.599884</td>\n",
       "      <td>0.569221</td>\n",
       "      <td>0.506318</td>\n",
       "      <td>0.816168</td>\n",
       "    </tr>\n",
       "    <tr>\n",
       "      <th>cross_validation</th>\n",
       "      <td>0.653769</td>\n",
       "      <td>0.631084</td>\n",
       "      <td>0.675810</td>\n",
       "      <td>0.531678</td>\n",
       "      <td>0.660870</td>\n",
       "    </tr>\n",
       "  </tbody>\n",
       "</table>\n",
       "</div>"
      ],
      "text/plain": [
       "                  random forest  SVM_linear   SVM_rbf  Adaboost   XGBoost\n",
       "accuracy_train         0.670851    0.697350  0.679219  0.489540  0.831241\n",
       "accuracy_test          0.648536    0.673640  0.665272  0.460251  0.715481\n",
       "recall_train           0.670851    0.697350  0.679219  0.489540  0.831241\n",
       "f1_train               0.556308    0.599884  0.569221  0.506318  0.816168\n",
       "cross_validation       0.653769    0.631084  0.675810  0.531678  0.660870"
      ]
     },
     "execution_count": 43,
     "metadata": {},
     "output_type": "execute_result"
    }
   ],
   "source": [
    "#machine_learning_round_1(df_salaire_province_cluster_3,X_train_province_3, X_test_province_3, y_train_province_3, y_test_province_3)\n",
    "machine_learning_round_1(df_salaire_province_cluster_4,X_train_province_4, X_test_province_4, y_train_province_4, y_test_province_4)"
   ]
  },
  {
   "cell_type": "markdown",
   "metadata": {},
   "source": [
    "# Améliorer les performances avec Grid Serach\n",
    "\n",
    "Nous avons choisi de nous interesser aux jeux de données comportant tous les salaire, les salaires en île-de-France et ceux de Province"
   ]
  },
  {
   "cell_type": "code",
   "execution_count": 44,
   "metadata": {},
   "outputs": [],
   "source": [
    "def grid_search_ML(data):\n",
    "    #les variables explicatives\n",
    "    X = data.loc[:,['junior', 'senior', 'data', 'dev', \n",
    "                    'bac_3', 'bac_5', 'bac_8',\n",
    "                    'CDI', 'CDD','freelance_interim', 'stage_apprentissage', 'inconnu',\n",
    "                    'Nantes', 'Bordeaux','Idf','Lyon','Toulouse',\n",
    "                    \"0\", \"1\" ,\"2\" ,\"3\" ,\"4\" ,\"5\" ,\"6\" ,\"7\" ,\"8\" ,\"9\",\n",
    "                    \"10\" ,\"11\" ,\"12\" ,\"13\" ,\"14\" ,\"15\" ,\"16\" ,\"17\" ,\"18\" ,\"19\"]]\n",
    "    #selection de la variable à prédire\n",
    "    salaire_cluster = data[\"kmean_labels\"]\n",
    "\n",
    "    #random forest\n",
    "    clf = RandomForestClassifier(random_state=0)\n",
    "    parameters_randomf = {'n_estimators':[50, 75, 100], 'max_depth':[2, 3, 4, 5]}\n",
    "    grid = GridSearchCV(clf, parameters_randomf, cv=10, scoring = 'accuracy')\n",
    "    grid.fit(X, salaire_cluster)\n",
    "    print(grid.best_params_)\n",
    "    \n",
    "    #SVM Kernel 'linear'       \n",
    "    SVM = svm.SVC(kernel='linear', random_state=0)\n",
    "    parameters_svc = {'C':[1, 10]}\n",
    "    grid = GridSearchCV(SVM, parameters_svc, cv=10, scoring = 'accuracy')\n",
    "    grid.fit(X, salaire_cluster)\n",
    "    print(grid.best_params_)\n",
    "    \n",
    "    #SVM Kernel 'rbf'\n",
    "    SVMrbf = svm.SVC(kernel='rbf', random_state=0)\n",
    "    parameters_svcrbf = {'C':[1, 10], 'gamma': [0.00001, 0.0001, 0.001, 0.01, 0.1]}\n",
    "    grid = GridSearchCV(SVMrbf, parameters_svcrbf, cv=10, scoring = 'accuracy')\n",
    "    grid.fit(X, salaire_cluster)\n",
    "    print(grid.best_params_)\n",
    "    \n",
    "    # Adaboost\n",
    "    ada = AdaBoostClassifier(random_state=0)\n",
    "    parameters_ada = {'n_estimators':[5, 10, 30, 50], 'learning_rate': [1.0, 5.0, 10]}\n",
    "    grid = GridSearchCV(ada, parameters_ada, cv=10, scoring = 'accuracy')\n",
    "    grid.fit(X, salaire_cluster)\n",
    "    print(grid.best_params_)\n",
    "\n",
    "    # XGBoost\n",
    "    bst = XGBClassifier()\n",
    "    parameters_xg = {'max_depth': [1, 3, 5, 7],'learning_rate': [1.0, 5.0, 10], 'n_estimators': [1, 3, 5, 7]}\n",
    "    grid = GridSearchCV(bst, parameters_xg, cv=10, scoring = 'accuracy')\n",
    "    grid.fit(X, salaire_cluster)\n",
    "    print(grid.best_params_)"
   ]
  },
  {
   "cell_type": "code",
   "execution_count": 19,
   "metadata": {},
   "outputs": [
    {
     "name": "stdout",
     "output_type": "stream",
     "text": [
      "{'max_depth': 4, 'n_estimators': 50}\n",
      "{'C': 1}\n",
      "{'C': 1, 'gamma': 0.01}\n"
     ]
    },
    {
     "name": "stderr",
     "output_type": "stream",
     "text": [
      "C:\\Users\\Alexandra\\Anaconda3\\lib\\site-packages\\sklearn\\model_selection\\_search.py:813: DeprecationWarning: The default of the `iid` parameter will change from True to False in version 0.22 and will be removed in 0.24. This will change numeric results when test-set sizes are unequal.\n",
      "  DeprecationWarning)\n"
     ]
    },
    {
     "name": "stdout",
     "output_type": "stream",
     "text": [
      "{'learning_rate': 1.0, 'n_estimators': 5}\n",
      "{'learning_rate': 1.0, 'max_depth': 3, 'n_estimators': 3}\n"
     ]
    },
    {
     "name": "stderr",
     "output_type": "stream",
     "text": [
      "C:\\Users\\Alexandra\\Anaconda3\\lib\\site-packages\\sklearn\\model_selection\\_search.py:813: DeprecationWarning: The default of the `iid` parameter will change from True to False in version 0.22 and will be removed in 0.24. This will change numeric results when test-set sizes are unequal.\n",
      "  DeprecationWarning)\n"
     ]
    }
   ],
   "source": [
    "#grid_search_ML(df_salaire_cluster_3)"
   ]
  },
  {
   "cell_type": "code",
   "execution_count": 45,
   "metadata": {},
   "outputs": [
    {
     "name": "stdout",
     "output_type": "stream",
     "text": [
      "{'max_depth': 5, 'n_estimators': 50}\n",
      "{'C': 1}\n",
      "{'C': 10, 'gamma': 0.01}\n"
     ]
    },
    {
     "name": "stderr",
     "output_type": "stream",
     "text": [
      "C:\\Users\\Alexandra\\Anaconda3\\lib\\site-packages\\sklearn\\model_selection\\_search.py:813: DeprecationWarning: The default of the `iid` parameter will change from True to False in version 0.22 and will be removed in 0.24. This will change numeric results when test-set sizes are unequal.\n",
      "  DeprecationWarning)\n"
     ]
    },
    {
     "name": "stdout",
     "output_type": "stream",
     "text": [
      "{'learning_rate': 1.0, 'n_estimators': 30}\n",
      "{'learning_rate': 1.0, 'max_depth': 5, 'n_estimators': 3}\n"
     ]
    },
    {
     "name": "stderr",
     "output_type": "stream",
     "text": [
      "C:\\Users\\Alexandra\\Anaconda3\\lib\\site-packages\\sklearn\\model_selection\\_search.py:813: DeprecationWarning: The default of the `iid` parameter will change from True to False in version 0.22 and will be removed in 0.24. This will change numeric results when test-set sizes are unequal.\n",
      "  DeprecationWarning)\n"
     ]
    }
   ],
   "source": [
    "grid_search_ML(df_salaire_cluster_4)"
   ]
  },
  {
   "cell_type": "code",
   "execution_count": 21,
   "metadata": {},
   "outputs": [
    {
     "name": "stdout",
     "output_type": "stream",
     "text": [
      "{'max_depth': 5, 'n_estimators': 50}\n",
      "{'C': 1}\n",
      "{'C': 1, 'gamma': 0.01}\n"
     ]
    },
    {
     "name": "stderr",
     "output_type": "stream",
     "text": [
      "C:\\Users\\Alexandra\\Anaconda3\\lib\\site-packages\\sklearn\\model_selection\\_search.py:813: DeprecationWarning: The default of the `iid` parameter will change from True to False in version 0.22 and will be removed in 0.24. This will change numeric results when test-set sizes are unequal.\n",
      "  DeprecationWarning)\n"
     ]
    },
    {
     "name": "stdout",
     "output_type": "stream",
     "text": [
      "{'learning_rate': 1.0, 'n_estimators': 10}\n",
      "{'learning_rate': 1.0, 'max_depth': 1, 'n_estimators': 7}\n"
     ]
    },
    {
     "name": "stderr",
     "output_type": "stream",
     "text": [
      "C:\\Users\\Alexandra\\Anaconda3\\lib\\site-packages\\sklearn\\model_selection\\_search.py:813: DeprecationWarning: The default of the `iid` parameter will change from True to False in version 0.22 and will be removed in 0.24. This will change numeric results when test-set sizes are unequal.\n",
      "  DeprecationWarning)\n"
     ]
    }
   ],
   "source": [
    "#grid_search_ML(df_salaire_idf_cluster_3)"
   ]
  },
  {
   "cell_type": "code",
   "execution_count": 46,
   "metadata": {},
   "outputs": [
    {
     "name": "stderr",
     "output_type": "stream",
     "text": [
      "C:\\Users\\Alexandra\\Anaconda3\\lib\\site-packages\\sklearn\\model_selection\\_search.py:813: DeprecationWarning: The default of the `iid` parameter will change from True to False in version 0.22 and will be removed in 0.24. This will change numeric results when test-set sizes are unequal.\n",
      "  DeprecationWarning)\n"
     ]
    },
    {
     "name": "stdout",
     "output_type": "stream",
     "text": [
      "{'max_depth': 5, 'n_estimators': 75}\n"
     ]
    },
    {
     "name": "stderr",
     "output_type": "stream",
     "text": [
      "C:\\Users\\Alexandra\\Anaconda3\\lib\\site-packages\\sklearn\\model_selection\\_search.py:813: DeprecationWarning: The default of the `iid` parameter will change from True to False in version 0.22 and will be removed in 0.24. This will change numeric results when test-set sizes are unequal.\n",
      "  DeprecationWarning)\n"
     ]
    },
    {
     "name": "stdout",
     "output_type": "stream",
     "text": [
      "{'C': 10}\n"
     ]
    },
    {
     "name": "stderr",
     "output_type": "stream",
     "text": [
      "C:\\Users\\Alexandra\\Anaconda3\\lib\\site-packages\\sklearn\\model_selection\\_search.py:813: DeprecationWarning: The default of the `iid` parameter will change from True to False in version 0.22 and will be removed in 0.24. This will change numeric results when test-set sizes are unequal.\n",
      "  DeprecationWarning)\n"
     ]
    },
    {
     "name": "stdout",
     "output_type": "stream",
     "text": [
      "{'C': 1, 'gamma': 0.01}\n"
     ]
    },
    {
     "name": "stderr",
     "output_type": "stream",
     "text": [
      "C:\\Users\\Alexandra\\Anaconda3\\lib\\site-packages\\sklearn\\model_selection\\_search.py:813: DeprecationWarning: The default of the `iid` parameter will change from True to False in version 0.22 and will be removed in 0.24. This will change numeric results when test-set sizes are unequal.\n",
      "  DeprecationWarning)\n"
     ]
    },
    {
     "name": "stdout",
     "output_type": "stream",
     "text": [
      "{'learning_rate': 1.0, 'n_estimators': 10}\n"
     ]
    },
    {
     "name": "stderr",
     "output_type": "stream",
     "text": [
      "C:\\Users\\Alexandra\\Anaconda3\\lib\\site-packages\\sklearn\\model_selection\\_search.py:813: DeprecationWarning: The default of the `iid` parameter will change from True to False in version 0.22 and will be removed in 0.24. This will change numeric results when test-set sizes are unequal.\n",
      "  DeprecationWarning)\n"
     ]
    },
    {
     "name": "stdout",
     "output_type": "stream",
     "text": [
      "{'learning_rate': 1.0, 'max_depth': 5, 'n_estimators': 7}\n"
     ]
    }
   ],
   "source": [
    "grid_search_ML(df_salaire_idf_cluster_4)"
   ]
  },
  {
   "cell_type": "code",
   "execution_count": 23,
   "metadata": {},
   "outputs": [
    {
     "name": "stderr",
     "output_type": "stream",
     "text": [
      "C:\\Users\\Alexandra\\Anaconda3\\lib\\site-packages\\sklearn\\model_selection\\_search.py:813: DeprecationWarning: The default of the `iid` parameter will change from True to False in version 0.22 and will be removed in 0.24. This will change numeric results when test-set sizes are unequal.\n",
      "  DeprecationWarning)\n"
     ]
    },
    {
     "name": "stdout",
     "output_type": "stream",
     "text": [
      "{'max_depth': 5, 'n_estimators': 50}\n"
     ]
    },
    {
     "name": "stderr",
     "output_type": "stream",
     "text": [
      "C:\\Users\\Alexandra\\Anaconda3\\lib\\site-packages\\sklearn\\model_selection\\_search.py:813: DeprecationWarning: The default of the `iid` parameter will change from True to False in version 0.22 and will be removed in 0.24. This will change numeric results when test-set sizes are unequal.\n",
      "  DeprecationWarning)\n"
     ]
    },
    {
     "name": "stdout",
     "output_type": "stream",
     "text": [
      "{'C': 10}\n"
     ]
    },
    {
     "name": "stderr",
     "output_type": "stream",
     "text": [
      "C:\\Users\\Alexandra\\Anaconda3\\lib\\site-packages\\sklearn\\model_selection\\_search.py:813: DeprecationWarning: The default of the `iid` parameter will change from True to False in version 0.22 and will be removed in 0.24. This will change numeric results when test-set sizes are unequal.\n",
      "  DeprecationWarning)\n"
     ]
    },
    {
     "name": "stdout",
     "output_type": "stream",
     "text": [
      "{'C': 1, 'gamma': 0.1}\n"
     ]
    },
    {
     "name": "stderr",
     "output_type": "stream",
     "text": [
      "C:\\Users\\Alexandra\\Anaconda3\\lib\\site-packages\\sklearn\\model_selection\\_search.py:813: DeprecationWarning: The default of the `iid` parameter will change from True to False in version 0.22 and will be removed in 0.24. This will change numeric results when test-set sizes are unequal.\n",
      "  DeprecationWarning)\n"
     ]
    },
    {
     "name": "stdout",
     "output_type": "stream",
     "text": [
      "{'learning_rate': 1.0, 'n_estimators': 10}\n",
      "{'learning_rate': 1.0, 'max_depth': 7, 'n_estimators': 1}\n"
     ]
    },
    {
     "name": "stderr",
     "output_type": "stream",
     "text": [
      "C:\\Users\\Alexandra\\Anaconda3\\lib\\site-packages\\sklearn\\model_selection\\_search.py:813: DeprecationWarning: The default of the `iid` parameter will change from True to False in version 0.22 and will be removed in 0.24. This will change numeric results when test-set sizes are unequal.\n",
      "  DeprecationWarning)\n"
     ]
    }
   ],
   "source": [
    "#grid_search_ML(df_salaire_province_cluster_3)"
   ]
  },
  {
   "cell_type": "code",
   "execution_count": 47,
   "metadata": {},
   "outputs": [
    {
     "name": "stderr",
     "output_type": "stream",
     "text": [
      "C:\\Users\\Alexandra\\Anaconda3\\lib\\site-packages\\sklearn\\model_selection\\_search.py:813: DeprecationWarning: The default of the `iid` parameter will change from True to False in version 0.22 and will be removed in 0.24. This will change numeric results when test-set sizes are unequal.\n",
      "  DeprecationWarning)\n"
     ]
    },
    {
     "name": "stdout",
     "output_type": "stream",
     "text": [
      "{'max_depth': 4, 'n_estimators': 75}\n"
     ]
    },
    {
     "name": "stderr",
     "output_type": "stream",
     "text": [
      "C:\\Users\\Alexandra\\Anaconda3\\lib\\site-packages\\sklearn\\model_selection\\_search.py:813: DeprecationWarning: The default of the `iid` parameter will change from True to False in version 0.22 and will be removed in 0.24. This will change numeric results when test-set sizes are unequal.\n",
      "  DeprecationWarning)\n"
     ]
    },
    {
     "name": "stdout",
     "output_type": "stream",
     "text": [
      "{'C': 10}\n"
     ]
    },
    {
     "name": "stderr",
     "output_type": "stream",
     "text": [
      "C:\\Users\\Alexandra\\Anaconda3\\lib\\site-packages\\sklearn\\model_selection\\_search.py:813: DeprecationWarning: The default of the `iid` parameter will change from True to False in version 0.22 and will be removed in 0.24. This will change numeric results when test-set sizes are unequal.\n",
      "  DeprecationWarning)\n"
     ]
    },
    {
     "name": "stdout",
     "output_type": "stream",
     "text": [
      "{'C': 1, 'gamma': 0.1}\n"
     ]
    },
    {
     "name": "stderr",
     "output_type": "stream",
     "text": [
      "C:\\Users\\Alexandra\\Anaconda3\\lib\\site-packages\\sklearn\\model_selection\\_search.py:813: DeprecationWarning: The default of the `iid` parameter will change from True to False in version 0.22 and will be removed in 0.24. This will change numeric results when test-set sizes are unequal.\n",
      "  DeprecationWarning)\n"
     ]
    },
    {
     "name": "stdout",
     "output_type": "stream",
     "text": [
      "{'learning_rate': 1.0, 'n_estimators': 5}\n",
      "{'learning_rate': 1.0, 'max_depth': 1, 'n_estimators': 1}\n"
     ]
    },
    {
     "name": "stderr",
     "output_type": "stream",
     "text": [
      "C:\\Users\\Alexandra\\Anaconda3\\lib\\site-packages\\sklearn\\model_selection\\_search.py:813: DeprecationWarning: The default of the `iid` parameter will change from True to False in version 0.22 and will be removed in 0.24. This will change numeric results when test-set sizes are unequal.\n",
      "  DeprecationWarning)\n"
     ]
    }
   ],
   "source": [
    "grid_search_ML(df_salaire_province_cluster_4)"
   ]
  },
  {
   "cell_type": "markdown",
   "metadata": {},
   "source": [
    "# Lancer les différents algo de machine learning et trouver les caractéristiques associées - Round 2\n",
    "\n",
    "Nous avons relancés les différents algorithmes avec les paramètres optimisés grâce à Grid Search.\n",
    "Les précision sur le train ont été améliorée, cependant la cross validations est restée similaire à celle obtenue lors du 1er round."
   ]
  },
  {
   "cell_type": "code",
   "execution_count": 25,
   "metadata": {},
   "outputs": [],
   "source": [
    "def machine_learning_round_2(data, X_train, X_test, y_train, y_test, rf_n_estimators, rf_max_depth,\n",
    "                            svm_C, rbf_c, rbf_gamma, ada_estimators, ada_rate, \n",
    "                             xg_max_depth, xg_rate, xg_estimators):\n",
    "    \n",
    "    X = data.loc[:,['junior', 'senior', 'data', 'dev', \n",
    "                    'bac_3', 'bac_5', 'bac_8',\n",
    "                    'CDI', 'CDD','freelance_interim', 'stage_apprentissage', 'inconnu',\n",
    "                    'Nantes', 'Bordeaux','Idf','Lyon','Toulouse',\n",
    "                   \"0\", \"1\" ,\"2\" ,\"3\" ,\"4\" ,\"5\" ,\"6\" ,\"7\" ,\"8\" ,\"9\",\n",
    "                    \"10\" ,\"11\" ,\"12\" ,\"13\" ,\"14\" ,\"15\" ,\"16\" ,\"17\" ,\"18\" ,\"19\"]]\n",
    "    #selection de la variable à prédire\n",
    "    salaire_cluster =data[\"kmean_labels\"]\n",
    "    \n",
    "    \n",
    "    #random forest\n",
    "    clf = RandomForestClassifier(n_estimators= rf_n_estimators, max_depth=rf_max_depth, random_state=0)\n",
    "    clf.fit(X_train, y_train) \n",
    "    y_pred_test = clf.predict(X_test)\n",
    "    y_pred_train = clf.predict(X_train)\n",
    "    clf_cross_val = cross_val_score(clf, X, salaire_cluster, cv=10, scoring= 'accuracy')\n",
    "    clf_cross_val_m = clf_cross_val.mean()\n",
    "    rf_test = accuracy_score(y_test, y_pred_test)\n",
    "    rf_train = accuracy_score(y_train, y_pred_train)\n",
    "    rf_recall = recall_score(y_train, y_pred_train, average='weighted')\n",
    "    rf_f1 = f1_score(y_train, y_pred_train, average='weighted')  \n",
    "\n",
    "    #SVM Kernel 'linear'       \n",
    "    SVM = svm.SVC(kernel='linear', C=svm_C, random_state=0)\n",
    "    SVM.fit(X_train, y_train)\n",
    "    y_pred_test = SVM.predict(X_test)\n",
    "    y_pred_train = SVM.predict(X_train)\n",
    "    svm_cross_val = cross_val_score(SVM, X, salaire_cluster, cv=10, scoring= 'accuracy')\n",
    "    svm_cross_val_m = svm_cross_val.mean()\n",
    "    svm_test = accuracy_score(y_test, y_pred_test)\n",
    "    svm_train = accuracy_score(y_train, y_pred_train)\n",
    "    svm_recall = recall_score(y_train, y_pred_train, average='weighted')\n",
    "    svm_f1 = f1_score(y_train, y_pred_train, average='weighted')  \n",
    "\n",
    "    #SVM Kernel 'rbf'\n",
    "    SVMrbf = svm.SVC(kernel='rbf',C=rbf_c, gamma=rbf_gamma, random_state=0)\n",
    "    SVMrbf.fit(X_train, y_train)\n",
    "    y_pred_test = SVMrbf.predict(X_test)\n",
    "    y_pred_train = SVMrbf.predict(X_train)\n",
    "    svm2_cross_val = cross_val_score(SVMrbf, X, salaire_cluster, cv=10, scoring= 'accuracy')\n",
    "    svm2_cross_val_m = svm2_cross_val.mean()\n",
    "    svm2_test = accuracy_score(y_test, y_pred_test)\n",
    "    svm2_train = accuracy_score(y_train, y_pred_train)\n",
    "    svm2_recall = recall_score(y_train, y_pred_train, average='weighted')\n",
    "    svm2_f1 = f1_score(y_train, y_pred_train, average='weighted') \n",
    "\n",
    "    # Adaboost\n",
    "    ada = AdaBoostClassifier(n_estimators= ada_estimators, learning_rate = ada_rate, random_state=0)\n",
    "    ada.fit(X_train, y_train)\n",
    "    y_pred_test = ada.predict(X_test)\n",
    "    y_pred_train = ada.predict(X_train)\n",
    "    ada_cross_val = cross_val_score(ada, X, salaire_cluster, cv=10, scoring= 'accuracy')\n",
    "    ada_cross_val_m = ada_cross_val.mean()\n",
    "    ada_test = accuracy_score(y_test, y_pred_test)\n",
    "    ada_train = accuracy_score(y_train, y_pred_train)\n",
    "    ada_recall = recall_score(y_train, y_pred_train, average='weighted')\n",
    "    ada_f1 = f1_score(y_train, y_pred_train, average='weighted')\n",
    "\n",
    "    # XGBoost \n",
    "    params = {'max_depth': xg_max_depth,  # the maximum depth of each tree\n",
    "        'learning_rate': xg_rate,  \n",
    "        'silent': 1, \n",
    "        'objective': 'multi:softprob',  \n",
    "        'n_estimators': xg_estimators}  \n",
    "    bst = XGBClassifier(**params).fit(X_train, y_train)\n",
    "    y_pred_test = bst.predict(X_test)\n",
    "    y_pred_train = bst.predict(X_train)\n",
    "    xg_cross_val = cross_val_score(bst, X, salaire_cluster, cv=10, scoring= 'accuracy')\n",
    "    xg_cross_val_m = xg_cross_val.mean()\n",
    "    xg_test = accuracy_score(y_test, y_pred_test)\n",
    "    xg_train = accuracy_score(y_train, y_pred_train)\n",
    "    xg_recall = recall_score(y_train, y_pred_train, average='weighted')\n",
    "    xg_f1 = f1_score(y_train, y_pred_train, average='weighted')\n",
    "    \n",
    "    #tableau récapitulatif\n",
    "    df = pd.DataFrame({'random forest': [rf_train, rf_test, rf_recall, rf_f1, clf_cross_val_m], \n",
    "                           'SVM_linear': [svm_train, svm_test, svm_recall, svm_f1, svm_cross_val_m], \n",
    "                           'SVM_rbf': [svm2_train, svm2_test, svm2_recall, svm2_f1, svm2_cross_val_m], \n",
    "                           'Adaboost': [ada_train, ada_test, ada_recall, ada_f1, ada_cross_val_m ], \n",
    "                           'XGBoost': [xg_train, xg_test, xg_recall, xg_f1, xg_cross_val_m]},\n",
    "                          index = ['accuracy_train', 'accuracy_test', 'recall_train', 'f1_train', 'cross_validation'])\n",
    "    print(df)\n",
    "    return df"
   ]
  },
  {
   "cell_type": "code",
   "execution_count": 26,
   "metadata": {},
   "outputs": [
    {
     "name": "stderr",
     "output_type": "stream",
     "text": [
      "C:\\Users\\Alexandra\\Anaconda3\\lib\\site-packages\\sklearn\\metrics\\classification.py:1437: UndefinedMetricWarning: F-score is ill-defined and being set to 0.0 in labels with no predicted samples.\n",
      "  'precision', 'predicted', average, warn_for)\n",
      "C:\\Users\\Alexandra\\Anaconda3\\lib\\site-packages\\sklearn\\metrics\\classification.py:1437: UndefinedMetricWarning: F-score is ill-defined and being set to 0.0 in labels with no predicted samples.\n",
      "  'precision', 'predicted', average, warn_for)\n",
      "C:\\Users\\Alexandra\\Anaconda3\\lib\\site-packages\\sklearn\\metrics\\classification.py:1437: UndefinedMetricWarning: F-score is ill-defined and being set to 0.0 in labels with no predicted samples.\n",
      "  'precision', 'predicted', average, warn_for)\n"
     ]
    },
    {
     "name": "stdout",
     "output_type": "stream",
     "text": [
      "                  random forest  SVM_linear   SVM_rbf  Adaboost   XGBoost\n",
      "accuracy_train         0.940274    0.763998  0.763998  0.700954  0.632518\n",
      "accuracy_test          0.799751    0.788557  0.788557  0.732587  0.640547\n",
      "recall_train           0.940274    0.763998  0.763998  0.700954  0.632518\n",
      "f1_train               0.939066    0.735861  0.735861  0.654059  0.544339\n",
      "cross_validation       0.718511    0.752502  0.770204  0.624844  0.630522\n"
     ]
    },
    {
     "data": {
      "text/html": [
       "<div>\n",
       "<style scoped>\n",
       "    .dataframe tbody tr th:only-of-type {\n",
       "        vertical-align: middle;\n",
       "    }\n",
       "\n",
       "    .dataframe tbody tr th {\n",
       "        vertical-align: top;\n",
       "    }\n",
       "\n",
       "    .dataframe thead th {\n",
       "        text-align: right;\n",
       "    }\n",
       "</style>\n",
       "<table border=\"1\" class=\"dataframe\">\n",
       "  <thead>\n",
       "    <tr style=\"text-align: right;\">\n",
       "      <th></th>\n",
       "      <th>random forest</th>\n",
       "      <th>SVM_linear</th>\n",
       "      <th>SVM_rbf</th>\n",
       "      <th>Adaboost</th>\n",
       "      <th>XGBoost</th>\n",
       "    </tr>\n",
       "  </thead>\n",
       "  <tbody>\n",
       "    <tr>\n",
       "      <th>accuracy_train</th>\n",
       "      <td>0.940274</td>\n",
       "      <td>0.763998</td>\n",
       "      <td>0.763998</td>\n",
       "      <td>0.700954</td>\n",
       "      <td>0.632518</td>\n",
       "    </tr>\n",
       "    <tr>\n",
       "      <th>accuracy_test</th>\n",
       "      <td>0.799751</td>\n",
       "      <td>0.788557</td>\n",
       "      <td>0.788557</td>\n",
       "      <td>0.732587</td>\n",
       "      <td>0.640547</td>\n",
       "    </tr>\n",
       "    <tr>\n",
       "      <th>recall_train</th>\n",
       "      <td>0.940274</td>\n",
       "      <td>0.763998</td>\n",
       "      <td>0.763998</td>\n",
       "      <td>0.700954</td>\n",
       "      <td>0.632518</td>\n",
       "    </tr>\n",
       "    <tr>\n",
       "      <th>f1_train</th>\n",
       "      <td>0.939066</td>\n",
       "      <td>0.735861</td>\n",
       "      <td>0.735861</td>\n",
       "      <td>0.654059</td>\n",
       "      <td>0.544339</td>\n",
       "    </tr>\n",
       "    <tr>\n",
       "      <th>cross_validation</th>\n",
       "      <td>0.718511</td>\n",
       "      <td>0.752502</td>\n",
       "      <td>0.770204</td>\n",
       "      <td>0.624844</td>\n",
       "      <td>0.630522</td>\n",
       "    </tr>\n",
       "  </tbody>\n",
       "</table>\n",
       "</div>"
      ],
      "text/plain": [
       "                  random forest  SVM_linear   SVM_rbf  Adaboost   XGBoost\n",
       "accuracy_train         0.940274    0.763998  0.763998  0.700954  0.632518\n",
       "accuracy_test          0.799751    0.788557  0.788557  0.732587  0.640547\n",
       "recall_train           0.940274    0.763998  0.763998  0.700954  0.632518\n",
       "f1_train               0.939066    0.735861  0.735861  0.654059  0.544339\n",
       "cross_validation       0.718511    0.752502  0.770204  0.624844  0.630522"
      ]
     },
     "execution_count": 26,
     "metadata": {},
     "output_type": "execute_result"
    }
   ],
   "source": [
    "#machine_learning_round_2(df_salaire_cluster_3, X_train_3, X_test_3, y_train_3, y_test_3,\n",
    "                         #4,50, 1, 1, 0.01, 1, 5, 1,3,3)"
   ]
  },
  {
   "cell_type": "code",
   "execution_count": 48,
   "metadata": {
    "scrolled": true
   },
   "outputs": [
    {
     "name": "stderr",
     "output_type": "stream",
     "text": [
      "C:\\Users\\Alexandra\\Anaconda3\\lib\\site-packages\\sklearn\\metrics\\classification.py:1437: UndefinedMetricWarning: F-score is ill-defined and being set to 0.0 in labels with no predicted samples.\n",
      "  'precision', 'predicted', average, warn_for)\n",
      "C:\\Users\\Alexandra\\Anaconda3\\lib\\site-packages\\sklearn\\metrics\\classification.py:1437: UndefinedMetricWarning: F-score is ill-defined and being set to 0.0 in labels with no predicted samples.\n",
      "  'precision', 'predicted', average, warn_for)\n",
      "C:\\Users\\Alexandra\\Anaconda3\\lib\\site-packages\\sklearn\\metrics\\classification.py:1437: UndefinedMetricWarning: F-score is ill-defined and being set to 0.0 in labels with no predicted samples.\n",
      "  'precision', 'predicted', average, warn_for)\n"
     ]
    },
    {
     "name": "stdout",
     "output_type": "stream",
     "text": [
      "                  random forest  SVM_linear   SVM_rbf  Adaboost   XGBoost\n",
      "accuracy_train         0.941933    0.660307  0.660307  0.497304  0.473248\n",
      "accuracy_test          0.685323    0.659204  0.659204  0.495025  0.473881\n",
      "recall_train           0.941933    0.660307  0.660307  0.497304  0.473248\n",
      "f1_train               0.941764    0.645483  0.645483  0.440104  0.304040\n",
      "cross_validation       0.618209    0.652022  0.652643  0.419081  0.457569\n"
     ]
    },
    {
     "name": "stderr",
     "output_type": "stream",
     "text": [
      "C:\\Users\\Alexandra\\Anaconda3\\lib\\site-packages\\sklearn\\metrics\\classification.py:1437: UndefinedMetricWarning: F-score is ill-defined and being set to 0.0 in labels with no predicted samples.\n",
      "  'precision', 'predicted', average, warn_for)\n"
     ]
    },
    {
     "data": {
      "text/html": [
       "<div>\n",
       "<style scoped>\n",
       "    .dataframe tbody tr th:only-of-type {\n",
       "        vertical-align: middle;\n",
       "    }\n",
       "\n",
       "    .dataframe tbody tr th {\n",
       "        vertical-align: top;\n",
       "    }\n",
       "\n",
       "    .dataframe thead th {\n",
       "        text-align: right;\n",
       "    }\n",
       "</style>\n",
       "<table border=\"1\" class=\"dataframe\">\n",
       "  <thead>\n",
       "    <tr style=\"text-align: right;\">\n",
       "      <th></th>\n",
       "      <th>random forest</th>\n",
       "      <th>SVM_linear</th>\n",
       "      <th>SVM_rbf</th>\n",
       "      <th>Adaboost</th>\n",
       "      <th>XGBoost</th>\n",
       "    </tr>\n",
       "  </thead>\n",
       "  <tbody>\n",
       "    <tr>\n",
       "      <th>accuracy_train</th>\n",
       "      <td>0.941933</td>\n",
       "      <td>0.660307</td>\n",
       "      <td>0.660307</td>\n",
       "      <td>0.497304</td>\n",
       "      <td>0.473248</td>\n",
       "    </tr>\n",
       "    <tr>\n",
       "      <th>accuracy_test</th>\n",
       "      <td>0.685323</td>\n",
       "      <td>0.659204</td>\n",
       "      <td>0.659204</td>\n",
       "      <td>0.495025</td>\n",
       "      <td>0.473881</td>\n",
       "    </tr>\n",
       "    <tr>\n",
       "      <th>recall_train</th>\n",
       "      <td>0.941933</td>\n",
       "      <td>0.660307</td>\n",
       "      <td>0.660307</td>\n",
       "      <td>0.497304</td>\n",
       "      <td>0.473248</td>\n",
       "    </tr>\n",
       "    <tr>\n",
       "      <th>f1_train</th>\n",
       "      <td>0.941764</td>\n",
       "      <td>0.645483</td>\n",
       "      <td>0.645483</td>\n",
       "      <td>0.440104</td>\n",
       "      <td>0.304040</td>\n",
       "    </tr>\n",
       "    <tr>\n",
       "      <th>cross_validation</th>\n",
       "      <td>0.618209</td>\n",
       "      <td>0.652022</td>\n",
       "      <td>0.652643</td>\n",
       "      <td>0.419081</td>\n",
       "      <td>0.457569</td>\n",
       "    </tr>\n",
       "  </tbody>\n",
       "</table>\n",
       "</div>"
      ],
      "text/plain": [
       "                  random forest  SVM_linear   SVM_rbf  Adaboost   XGBoost\n",
       "accuracy_train         0.941933    0.660307  0.660307  0.497304  0.473248\n",
       "accuracy_test          0.685323    0.659204  0.659204  0.495025  0.473881\n",
       "recall_train           0.941933    0.660307  0.660307  0.497304  0.473248\n",
       "f1_train               0.941764    0.645483  0.645483  0.440104  0.304040\n",
       "cross_validation       0.618209    0.652022  0.652643  0.419081  0.457569"
      ]
     },
     "execution_count": 48,
     "metadata": {},
     "output_type": "execute_result"
    }
   ],
   "source": [
    "machine_learning_round_2(df_salaire_cluster_4, X_train_4, X_test_4, y_train_4, y_test_4,\n",
    "                         5,50, 1, 10, 0.01, 1, 30, 1,3,5)"
   ]
  },
  {
   "cell_type": "code",
   "execution_count": 28,
   "metadata": {},
   "outputs": [
    {
     "name": "stderr",
     "output_type": "stream",
     "text": [
      "C:\\Users\\Alexandra\\Anaconda3\\lib\\site-packages\\sklearn\\metrics\\classification.py:1437: UndefinedMetricWarning: F-score is ill-defined and being set to 0.0 in labels with no predicted samples.\n",
      "  'precision', 'predicted', average, warn_for)\n",
      "C:\\Users\\Alexandra\\Anaconda3\\lib\\site-packages\\sklearn\\metrics\\classification.py:1437: UndefinedMetricWarning: F-score is ill-defined and being set to 0.0 in labels with no predicted samples.\n",
      "  'precision', 'predicted', average, warn_for)\n",
      "C:\\Users\\Alexandra\\Anaconda3\\lib\\site-packages\\sklearn\\metrics\\classification.py:1437: UndefinedMetricWarning: F-score is ill-defined and being set to 0.0 in labels with no predicted samples.\n",
      "  'precision', 'predicted', average, warn_for)\n"
     ]
    },
    {
     "name": "stdout",
     "output_type": "stream",
     "text": [
      "                  random forest  SVM_linear   SVM_rbf  Adaboost   XGBoost\n",
      "accuracy_train         0.966942    0.843566  0.843566  0.776860  0.842975\n",
      "accuracy_test          0.842478    0.840708  0.840708  0.773451  0.838938\n",
      "recall_train           0.966942    0.843566  0.843566  0.776860  0.842975\n",
      "f1_train               0.966469    0.822037  0.822037  0.745811  0.821496\n",
      "cross_validation       0.804444    0.843003  0.843003  0.775942  0.843899\n"
     ]
    },
    {
     "name": "stderr",
     "output_type": "stream",
     "text": [
      "C:\\Users\\Alexandra\\Anaconda3\\lib\\site-packages\\sklearn\\metrics\\classification.py:1437: UndefinedMetricWarning: F-score is ill-defined and being set to 0.0 in labels with no predicted samples.\n",
      "  'precision', 'predicted', average, warn_for)\n"
     ]
    },
    {
     "data": {
      "text/html": [
       "<div>\n",
       "<style scoped>\n",
       "    .dataframe tbody tr th:only-of-type {\n",
       "        vertical-align: middle;\n",
       "    }\n",
       "\n",
       "    .dataframe tbody tr th {\n",
       "        vertical-align: top;\n",
       "    }\n",
       "\n",
       "    .dataframe thead th {\n",
       "        text-align: right;\n",
       "    }\n",
       "</style>\n",
       "<table border=\"1\" class=\"dataframe\">\n",
       "  <thead>\n",
       "    <tr style=\"text-align: right;\">\n",
       "      <th></th>\n",
       "      <th>random forest</th>\n",
       "      <th>SVM_linear</th>\n",
       "      <th>SVM_rbf</th>\n",
       "      <th>Adaboost</th>\n",
       "      <th>XGBoost</th>\n",
       "    </tr>\n",
       "  </thead>\n",
       "  <tbody>\n",
       "    <tr>\n",
       "      <th>accuracy_train</th>\n",
       "      <td>0.966942</td>\n",
       "      <td>0.843566</td>\n",
       "      <td>0.843566</td>\n",
       "      <td>0.776860</td>\n",
       "      <td>0.842975</td>\n",
       "    </tr>\n",
       "    <tr>\n",
       "      <th>accuracy_test</th>\n",
       "      <td>0.842478</td>\n",
       "      <td>0.840708</td>\n",
       "      <td>0.840708</td>\n",
       "      <td>0.773451</td>\n",
       "      <td>0.838938</td>\n",
       "    </tr>\n",
       "    <tr>\n",
       "      <th>recall_train</th>\n",
       "      <td>0.966942</td>\n",
       "      <td>0.843566</td>\n",
       "      <td>0.843566</td>\n",
       "      <td>0.776860</td>\n",
       "      <td>0.842975</td>\n",
       "    </tr>\n",
       "    <tr>\n",
       "      <th>f1_train</th>\n",
       "      <td>0.966469</td>\n",
       "      <td>0.822037</td>\n",
       "      <td>0.822037</td>\n",
       "      <td>0.745811</td>\n",
       "      <td>0.821496</td>\n",
       "    </tr>\n",
       "    <tr>\n",
       "      <th>cross_validation</th>\n",
       "      <td>0.804444</td>\n",
       "      <td>0.843003</td>\n",
       "      <td>0.843003</td>\n",
       "      <td>0.775942</td>\n",
       "      <td>0.843899</td>\n",
       "    </tr>\n",
       "  </tbody>\n",
       "</table>\n",
       "</div>"
      ],
      "text/plain": [
       "                  random forest  SVM_linear   SVM_rbf  Adaboost   XGBoost\n",
       "accuracy_train         0.966942    0.843566  0.843566  0.776860  0.842975\n",
       "accuracy_test          0.842478    0.840708  0.840708  0.773451  0.838938\n",
       "recall_train           0.966942    0.843566  0.843566  0.776860  0.842975\n",
       "f1_train               0.966469    0.822037  0.822037  0.745811  0.821496\n",
       "cross_validation       0.804444    0.843003  0.843003  0.775942  0.843899"
      ]
     },
     "execution_count": 28,
     "metadata": {},
     "output_type": "execute_result"
    }
   ],
   "source": [
    "#machine_learning_round_2(df_salaire_idf_cluster_3,X_train_idf_3, X_test_idf_3, y_train_idf_3, y_test_idf_3, \n",
    "                         #5, 50, 1, 1, 0.01, 1, 10, 1, 1, 7)"
   ]
  },
  {
   "cell_type": "code",
   "execution_count": 49,
   "metadata": {},
   "outputs": [
    {
     "name": "stderr",
     "output_type": "stream",
     "text": [
      "C:\\Users\\Alexandra\\Anaconda3\\lib\\site-packages\\sklearn\\metrics\\classification.py:1437: UndefinedMetricWarning: F-score is ill-defined and being set to 0.0 in labels with no predicted samples.\n",
      "  'precision', 'predicted', average, warn_for)\n",
      "C:\\Users\\Alexandra\\Anaconda3\\lib\\site-packages\\sklearn\\metrics\\classification.py:1437: UndefinedMetricWarning: F-score is ill-defined and being set to 0.0 in labels with no predicted samples.\n",
      "  'precision', 'predicted', average, warn_for)\n",
      "C:\\Users\\Alexandra\\Anaconda3\\lib\\site-packages\\sklearn\\metrics\\classification.py:1437: UndefinedMetricWarning: F-score is ill-defined and being set to 0.0 in labels with no predicted samples.\n",
      "  'precision', 'predicted', average, warn_for)\n"
     ]
    },
    {
     "name": "stdout",
     "output_type": "stream",
     "text": [
      "                  random forest  SVM_linear   SVM_rbf  Adaboost   XGBoost\n",
      "accuracy_train         0.908501    0.684770  0.622196  0.553719  0.276269\n",
      "accuracy_test          0.610619    0.631858  0.582301  0.518584  0.300885\n",
      "recall_train           0.908501    0.684770  0.622196  0.553719  0.276269\n",
      "f1_train               0.907677    0.661326  0.511572  0.450220  0.119606\n",
      "cross_validation       0.603619    0.618246  0.612174  0.544643  0.311197\n"
     ]
    },
    {
     "name": "stderr",
     "output_type": "stream",
     "text": [
      "C:\\Users\\Alexandra\\Anaconda3\\lib\\site-packages\\sklearn\\metrics\\classification.py:1437: UndefinedMetricWarning: F-score is ill-defined and being set to 0.0 in labels with no predicted samples.\n",
      "  'precision', 'predicted', average, warn_for)\n"
     ]
    },
    {
     "data": {
      "text/html": [
       "<div>\n",
       "<style scoped>\n",
       "    .dataframe tbody tr th:only-of-type {\n",
       "        vertical-align: middle;\n",
       "    }\n",
       "\n",
       "    .dataframe tbody tr th {\n",
       "        vertical-align: top;\n",
       "    }\n",
       "\n",
       "    .dataframe thead th {\n",
       "        text-align: right;\n",
       "    }\n",
       "</style>\n",
       "<table border=\"1\" class=\"dataframe\">\n",
       "  <thead>\n",
       "    <tr style=\"text-align: right;\">\n",
       "      <th></th>\n",
       "      <th>random forest</th>\n",
       "      <th>SVM_linear</th>\n",
       "      <th>SVM_rbf</th>\n",
       "      <th>Adaboost</th>\n",
       "      <th>XGBoost</th>\n",
       "    </tr>\n",
       "  </thead>\n",
       "  <tbody>\n",
       "    <tr>\n",
       "      <th>accuracy_train</th>\n",
       "      <td>0.908501</td>\n",
       "      <td>0.684770</td>\n",
       "      <td>0.622196</td>\n",
       "      <td>0.553719</td>\n",
       "      <td>0.276269</td>\n",
       "    </tr>\n",
       "    <tr>\n",
       "      <th>accuracy_test</th>\n",
       "      <td>0.610619</td>\n",
       "      <td>0.631858</td>\n",
       "      <td>0.582301</td>\n",
       "      <td>0.518584</td>\n",
       "      <td>0.300885</td>\n",
       "    </tr>\n",
       "    <tr>\n",
       "      <th>recall_train</th>\n",
       "      <td>0.908501</td>\n",
       "      <td>0.684770</td>\n",
       "      <td>0.622196</td>\n",
       "      <td>0.553719</td>\n",
       "      <td>0.276269</td>\n",
       "    </tr>\n",
       "    <tr>\n",
       "      <th>f1_train</th>\n",
       "      <td>0.907677</td>\n",
       "      <td>0.661326</td>\n",
       "      <td>0.511572</td>\n",
       "      <td>0.450220</td>\n",
       "      <td>0.119606</td>\n",
       "    </tr>\n",
       "    <tr>\n",
       "      <th>cross_validation</th>\n",
       "      <td>0.603619</td>\n",
       "      <td>0.618246</td>\n",
       "      <td>0.612174</td>\n",
       "      <td>0.544643</td>\n",
       "      <td>0.311197</td>\n",
       "    </tr>\n",
       "  </tbody>\n",
       "</table>\n",
       "</div>"
      ],
      "text/plain": [
       "                  random forest  SVM_linear   SVM_rbf  Adaboost   XGBoost\n",
       "accuracy_train         0.908501    0.684770  0.622196  0.553719  0.276269\n",
       "accuracy_test          0.610619    0.631858  0.582301  0.518584  0.300885\n",
       "recall_train           0.908501    0.684770  0.622196  0.553719  0.276269\n",
       "f1_train               0.907677    0.661326  0.511572  0.450220  0.119606\n",
       "cross_validation       0.603619    0.618246  0.612174  0.544643  0.311197"
      ]
     },
     "execution_count": 49,
     "metadata": {},
     "output_type": "execute_result"
    }
   ],
   "source": [
    "machine_learning_round_2(df_salaire_idf_cluster_4,X_train_idf_4, X_test_idf_4, y_train_idf_4, y_test_idf_4, \n",
    "                         4, 75, 10, 1, 0.01, 1, 10, 1, 5, 7)"
   ]
  },
  {
   "cell_type": "code",
   "execution_count": 30,
   "metadata": {},
   "outputs": [
    {
     "name": "stderr",
     "output_type": "stream",
     "text": [
      "C:\\Users\\Alexandra\\Anaconda3\\lib\\site-packages\\sklearn\\metrics\\classification.py:1437: UndefinedMetricWarning: F-score is ill-defined and being set to 0.0 in labels with no predicted samples.\n",
      "  'precision', 'predicted', average, warn_for)\n",
      "C:\\Users\\Alexandra\\Anaconda3\\lib\\site-packages\\sklearn\\metrics\\classification.py:1437: UndefinedMetricWarning: F-score is ill-defined and being set to 0.0 in labels with no predicted samples.\n",
      "  'precision', 'predicted', average, warn_for)\n"
     ]
    },
    {
     "name": "stdout",
     "output_type": "stream",
     "text": [
      "                  random forest  SVM_linear   SVM_rbf  Adaboost   XGBoost\n",
      "accuracy_train         0.980474    0.856346  0.790795  0.821478  0.821478\n",
      "accuracy_test          0.828452    0.815900  0.757322  0.803347  0.803347\n",
      "recall_train           0.980474    0.856346  0.790795  0.821478  0.821478\n",
      "f1_train               0.980234    0.833812  0.698412  0.769300  0.769300\n",
      "cross_validation       0.811014    0.835983  0.782515  0.817220  0.817220\n"
     ]
    },
    {
     "name": "stderr",
     "output_type": "stream",
     "text": [
      "C:\\Users\\Alexandra\\Anaconda3\\lib\\site-packages\\sklearn\\metrics\\classification.py:1437: UndefinedMetricWarning: F-score is ill-defined and being set to 0.0 in labels with no predicted samples.\n",
      "  'precision', 'predicted', average, warn_for)\n"
     ]
    },
    {
     "data": {
      "text/html": [
       "<div>\n",
       "<style scoped>\n",
       "    .dataframe tbody tr th:only-of-type {\n",
       "        vertical-align: middle;\n",
       "    }\n",
       "\n",
       "    .dataframe tbody tr th {\n",
       "        vertical-align: top;\n",
       "    }\n",
       "\n",
       "    .dataframe thead th {\n",
       "        text-align: right;\n",
       "    }\n",
       "</style>\n",
       "<table border=\"1\" class=\"dataframe\">\n",
       "  <thead>\n",
       "    <tr style=\"text-align: right;\">\n",
       "      <th></th>\n",
       "      <th>random forest</th>\n",
       "      <th>SVM_linear</th>\n",
       "      <th>SVM_rbf</th>\n",
       "      <th>Adaboost</th>\n",
       "      <th>XGBoost</th>\n",
       "    </tr>\n",
       "  </thead>\n",
       "  <tbody>\n",
       "    <tr>\n",
       "      <th>accuracy_train</th>\n",
       "      <td>0.980474</td>\n",
       "      <td>0.856346</td>\n",
       "      <td>0.790795</td>\n",
       "      <td>0.821478</td>\n",
       "      <td>0.821478</td>\n",
       "    </tr>\n",
       "    <tr>\n",
       "      <th>accuracy_test</th>\n",
       "      <td>0.828452</td>\n",
       "      <td>0.815900</td>\n",
       "      <td>0.757322</td>\n",
       "      <td>0.803347</td>\n",
       "      <td>0.803347</td>\n",
       "    </tr>\n",
       "    <tr>\n",
       "      <th>recall_train</th>\n",
       "      <td>0.980474</td>\n",
       "      <td>0.856346</td>\n",
       "      <td>0.790795</td>\n",
       "      <td>0.821478</td>\n",
       "      <td>0.821478</td>\n",
       "    </tr>\n",
       "    <tr>\n",
       "      <th>f1_train</th>\n",
       "      <td>0.980234</td>\n",
       "      <td>0.833812</td>\n",
       "      <td>0.698412</td>\n",
       "      <td>0.769300</td>\n",
       "      <td>0.769300</td>\n",
       "    </tr>\n",
       "    <tr>\n",
       "      <th>cross_validation</th>\n",
       "      <td>0.811014</td>\n",
       "      <td>0.835983</td>\n",
       "      <td>0.782515</td>\n",
       "      <td>0.817220</td>\n",
       "      <td>0.817220</td>\n",
       "    </tr>\n",
       "  </tbody>\n",
       "</table>\n",
       "</div>"
      ],
      "text/plain": [
       "                  random forest  SVM_linear   SVM_rbf  Adaboost   XGBoost\n",
       "accuracy_train         0.980474    0.856346  0.790795  0.821478  0.821478\n",
       "accuracy_test          0.828452    0.815900  0.757322  0.803347  0.803347\n",
       "recall_train           0.980474    0.856346  0.790795  0.821478  0.821478\n",
       "f1_train               0.980234    0.833812  0.698412  0.769300  0.769300\n",
       "cross_validation       0.811014    0.835983  0.782515  0.817220  0.817220"
      ]
     },
     "execution_count": 30,
     "metadata": {},
     "output_type": "execute_result"
    }
   ],
   "source": [
    "#machine_learning_round_2(df_salaire_province_cluster_3,X_train_province_3, X_test_province_3, y_train_province_3, \n",
    "                         #y_test_province_3, 5, 50, 10, 1, 0.01, 1, 10, 1, 7, 1)"
   ]
  },
  {
   "cell_type": "code",
   "execution_count": 50,
   "metadata": {},
   "outputs": [
    {
     "name": "stderr",
     "output_type": "stream",
     "text": [
      "C:\\Users\\Alexandra\\Anaconda3\\lib\\site-packages\\sklearn\\metrics\\classification.py:1437: UndefinedMetricWarning: F-score is ill-defined and being set to 0.0 in labels with no predicted samples.\n",
      "  'precision', 'predicted', average, warn_for)\n",
      "C:\\Users\\Alexandra\\Anaconda3\\lib\\site-packages\\sklearn\\metrics\\classification.py:1437: UndefinedMetricWarning: F-score is ill-defined and being set to 0.0 in labels with no predicted samples.\n",
      "  'precision', 'predicted', average, warn_for)\n"
     ]
    },
    {
     "name": "stdout",
     "output_type": "stream",
     "text": [
      "                  random forest  SVM_linear   SVM_rbf  Adaboost   XGBoost\n",
      "accuracy_train         0.938633    0.714086  0.698745  0.679219  0.693166\n",
      "accuracy_test          0.694561    0.702929  0.677824  0.665272  0.669456\n",
      "recall_train           0.938633    0.714086  0.698745  0.679219  0.693166\n",
      "f1_train               0.937375    0.638012  0.601732  0.569221  0.600344\n",
      "cross_validation       0.664760    0.654178  0.652185  0.667389  0.688532\n"
     ]
    },
    {
     "name": "stderr",
     "output_type": "stream",
     "text": [
      "C:\\Users\\Alexandra\\Anaconda3\\lib\\site-packages\\sklearn\\metrics\\classification.py:1437: UndefinedMetricWarning: F-score is ill-defined and being set to 0.0 in labels with no predicted samples.\n",
      "  'precision', 'predicted', average, warn_for)\n"
     ]
    },
    {
     "data": {
      "text/html": [
       "<div>\n",
       "<style scoped>\n",
       "    .dataframe tbody tr th:only-of-type {\n",
       "        vertical-align: middle;\n",
       "    }\n",
       "\n",
       "    .dataframe tbody tr th {\n",
       "        vertical-align: top;\n",
       "    }\n",
       "\n",
       "    .dataframe thead th {\n",
       "        text-align: right;\n",
       "    }\n",
       "</style>\n",
       "<table border=\"1\" class=\"dataframe\">\n",
       "  <thead>\n",
       "    <tr style=\"text-align: right;\">\n",
       "      <th></th>\n",
       "      <th>random forest</th>\n",
       "      <th>SVM_linear</th>\n",
       "      <th>SVM_rbf</th>\n",
       "      <th>Adaboost</th>\n",
       "      <th>XGBoost</th>\n",
       "    </tr>\n",
       "  </thead>\n",
       "  <tbody>\n",
       "    <tr>\n",
       "      <th>accuracy_train</th>\n",
       "      <td>0.938633</td>\n",
       "      <td>0.714086</td>\n",
       "      <td>0.698745</td>\n",
       "      <td>0.679219</td>\n",
       "      <td>0.693166</td>\n",
       "    </tr>\n",
       "    <tr>\n",
       "      <th>accuracy_test</th>\n",
       "      <td>0.694561</td>\n",
       "      <td>0.702929</td>\n",
       "      <td>0.677824</td>\n",
       "      <td>0.665272</td>\n",
       "      <td>0.669456</td>\n",
       "    </tr>\n",
       "    <tr>\n",
       "      <th>recall_train</th>\n",
       "      <td>0.938633</td>\n",
       "      <td>0.714086</td>\n",
       "      <td>0.698745</td>\n",
       "      <td>0.679219</td>\n",
       "      <td>0.693166</td>\n",
       "    </tr>\n",
       "    <tr>\n",
       "      <th>f1_train</th>\n",
       "      <td>0.937375</td>\n",
       "      <td>0.638012</td>\n",
       "      <td>0.601732</td>\n",
       "      <td>0.569221</td>\n",
       "      <td>0.600344</td>\n",
       "    </tr>\n",
       "    <tr>\n",
       "      <th>cross_validation</th>\n",
       "      <td>0.664760</td>\n",
       "      <td>0.654178</td>\n",
       "      <td>0.652185</td>\n",
       "      <td>0.667389</td>\n",
       "      <td>0.688532</td>\n",
       "    </tr>\n",
       "  </tbody>\n",
       "</table>\n",
       "</div>"
      ],
      "text/plain": [
       "                  random forest  SVM_linear   SVM_rbf  Adaboost   XGBoost\n",
       "accuracy_train         0.938633    0.714086  0.698745  0.679219  0.693166\n",
       "accuracy_test          0.694561    0.702929  0.677824  0.665272  0.669456\n",
       "recall_train           0.938633    0.714086  0.698745  0.679219  0.693166\n",
       "f1_train               0.937375    0.638012  0.601732  0.569221  0.600344\n",
       "cross_validation       0.664760    0.654178  0.652185  0.667389  0.688532"
      ]
     },
     "execution_count": 50,
     "metadata": {},
     "output_type": "execute_result"
    }
   ],
   "source": [
    "machine_learning_round_2(df_salaire_province_cluster_4,X_train_province_4, X_test_province_4, y_train_province_4, \n",
    "                         y_test_province_4, 4, 75, 10, 1, 0.1, 1, 5, 1, 1, 1)"
   ]
  },
  {
   "cell_type": "markdown",
   "metadata": {},
   "source": [
    "# Partie Divers"
   ]
  },
  {
   "cell_type": "markdown",
   "metadata": {},
   "source": [
    "# salaire moyen en fonction des villes"
   ]
  },
  {
   "cell_type": "code",
   "execution_count": 32,
   "metadata": {},
   "outputs": [
    {
     "data": {
      "text/html": [
       "<div>\n",
       "<style scoped>\n",
       "    .dataframe tbody tr th:only-of-type {\n",
       "        vertical-align: middle;\n",
       "    }\n",
       "\n",
       "    .dataframe tbody tr th {\n",
       "        vertical-align: top;\n",
       "    }\n",
       "\n",
       "    .dataframe thead th {\n",
       "        text-align: right;\n",
       "    }\n",
       "</style>\n",
       "<table border=\"1\" class=\"dataframe\">\n",
       "  <thead>\n",
       "    <tr style=\"text-align: right;\">\n",
       "      <th></th>\n",
       "      <th>Ville</th>\n",
       "      <th>salaire_min</th>\n",
       "      <th>salaire_max</th>\n",
       "    </tr>\n",
       "  </thead>\n",
       "  <tbody>\n",
       "    <tr>\n",
       "      <th>0</th>\n",
       "      <td>Nantes</td>\n",
       "      <td>37210.759336</td>\n",
       "      <td>45449.846473</td>\n",
       "    </tr>\n",
       "    <tr>\n",
       "      <th>1</th>\n",
       "      <td>Bordeaux</td>\n",
       "      <td>39193.987654</td>\n",
       "      <td>47510.962963</td>\n",
       "    </tr>\n",
       "    <tr>\n",
       "      <th>2</th>\n",
       "      <td>Idf</td>\n",
       "      <td>41568.150952</td>\n",
       "      <td>47659.363878</td>\n",
       "    </tr>\n",
       "    <tr>\n",
       "      <th>3</th>\n",
       "      <td>Lyon</td>\n",
       "      <td>35560.865285</td>\n",
       "      <td>43513.683938</td>\n",
       "    </tr>\n",
       "    <tr>\n",
       "      <th>4</th>\n",
       "      <td>Toulouse</td>\n",
       "      <td>32501.928144</td>\n",
       "      <td>39933.065868</td>\n",
       "    </tr>\n",
       "  </tbody>\n",
       "</table>\n",
       "</div>"
      ],
      "text/plain": [
       "      Ville   salaire_min   salaire_max\n",
       "0    Nantes  37210.759336  45449.846473\n",
       "1  Bordeaux  39193.987654  47510.962963\n",
       "2       Idf  41568.150952  47659.363878\n",
       "3      Lyon  35560.865285  43513.683938\n",
       "4  Toulouse  32501.928144  39933.065868"
      ]
     },
     "execution_count": 32,
     "metadata": {},
     "output_type": "execute_result"
    }
   ],
   "source": [
    "liste_ville = ['Nantes', 'Bordeaux','Idf','Lyon','Toulouse']\n",
    "liste_salaire_min = []\n",
    "liste_salaire_max = []\n",
    "\n",
    "for i in liste_ville :\n",
    "    salaire_min_mean = df_salaire[df_salaire[i] == 1][\"min_salaire\"].mean()\n",
    "    liste_salaire_min.append(salaire_min_mean)\n",
    "    salaire_max_mean = df_salaire[df_salaire[i] == 1][\"max_salaire\"].mean()\n",
    "    liste_salaire_max.append(salaire_max_mean)\n",
    "\n",
    "df = pd.DataFrame({'Ville': liste_ville, 'salaire_min': liste_salaire_min, 'salaire_max': liste_salaire_max})\n",
    "df"
   ]
  },
  {
   "cell_type": "markdown",
   "metadata": {},
   "source": [
    "# Trouver les salaires min et max types dans les k clusters\n",
    "\n",
    "Afin de présenter le salaire \"type\" de chaque cluster lors de la présentation client"
   ]
  },
  {
   "cell_type": "code",
   "execution_count": 33,
   "metadata": {},
   "outputs": [],
   "source": [
    "def trouver_mean_cluster(data):\n",
    "    liste_kmean = list(data.kmean_labels.unique())\n",
    "    liste_salaire_moyen_min = []\n",
    "    liste_salaire_moyen_max = []\n",
    "    liste_quantite = []\n",
    "    for i in liste_kmean :\n",
    "        salaire_min_mean = data[data.kmean_labels == i][\"min_salaire\"].mean()\n",
    "        liste_salaire_moyen_min.append(salaire_min_mean)\n",
    "        salaire_max_mean = data[data.kmean_labels == i][\"max_salaire\"].mean()\n",
    "        liste_salaire_moyen_max.append(salaire_max_mean)\n",
    "        salaire_qte = data[data.kmean_labels == i][\"min_salaire\"].count()\n",
    "        liste_quantite.append(salaire_qte)\n",
    "    df = pd.DataFrame({'kmean': liste_kmean, 'salaire_min': liste_salaire_moyen_min, 'salaire_max': liste_salaire_moyen_max, 'quantite' : liste_quantite})\n",
    "    print(df)\n",
    "    return df.sort_values(by=['salaire_min'])"
   ]
  },
  {
   "cell_type": "code",
   "execution_count": 34,
   "metadata": {},
   "outputs": [
    {
     "name": "stdout",
     "output_type": "stream",
     "text": [
      "   kmean   salaire_min    salaire_max  quantite\n",
      "0      2  23508.011696   26307.048733      1026\n",
      "1      0  44865.108664   52724.208027      2043\n",
      "2      1  86269.527397  103227.445205       146\n",
      "   kmean   salaire_min    salaire_max  quantite\n",
      "0      0  46883.411493   54421.196169      1514\n",
      "1      1  21219.872274   22880.314642       642\n",
      "2      2  90270.000000  102715.048544       103\n",
      "   kmean   salaire_min    salaire_max  quantite\n",
      "0      1  36910.292781   44906.495989       748\n",
      "1      0  21381.073171   24372.829268       164\n",
      "2      2  76275.909091  102911.136364        44\n"
     ]
    }
   ],
   "source": [
    "df_salaire_kmean = trouver_mean_cluster(df_salaire_cluster_3)\n",
    "#df_salaire_kmean = trouver_mean_cluster(df_salaire_cluster_4)\n",
    "df_salaire_idf_kmean = trouver_mean_cluster(df_salaire_idf_cluster_3)\n",
    "#df_salaire_idf_kmean = trouver_3mean_cluster(df_salaire_idf_cluster_4)\n",
    "df_salaire_province_kmean = trouver_mean_cluster(df_salaire_province_cluster_3)\n",
    "#df_salaire_province_kmean = trouver_mean_cluster(df_salaire_province_cluster_4)"
   ]
  },
  {
   "cell_type": "code",
   "execution_count": null,
   "metadata": {},
   "outputs": [],
   "source": []
  }
 ],
 "metadata": {
  "kernelspec": {
   "display_name": "Python 3",
   "language": "python",
   "name": "python3"
  },
  "language_info": {
   "codemirror_mode": {
    "name": "ipython",
    "version": 3
   },
   "file_extension": ".py",
   "mimetype": "text/x-python",
   "name": "python",
   "nbconvert_exporter": "python",
   "pygments_lexer": "ipython3",
   "version": "3.7.3"
  }
 },
 "nbformat": 4,
 "nbformat_minor": 2
}
